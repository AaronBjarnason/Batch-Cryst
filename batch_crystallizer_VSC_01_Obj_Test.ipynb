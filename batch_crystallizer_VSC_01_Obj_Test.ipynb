{
  "cells": [
    {
      "cell_type": "markdown",
      "metadata": {
        "id": "view-in-github"
      },
      "source": [
        "<a href=\"https://colab.research.google.com/github/adowling2/batch-crystallizer/blob/main/batch_crystalliser_pyomo_v1.ipynb\" target=\"_parent\"><img src=\"https://colab.research.google.com/assets/colab-badge.svg\" alt=\"Open In Colab\"/></a>"
      ]
    },
    {
      "cell_type": "markdown",
      "metadata": {
        "id": "YKo-AxCWF_6M"
      },
      "source": [
        "# Batch Crystalliser in Pyomo\n",
        "\n",
        "Cameron Brown (cameron.brown.100@strath.ac.uk), Aaron Bjarnason (aaron.bjarnason@strath.ac.uk), Alex Dowling (adowling@nd.edu), Hailey Lynch (hlynch@nd.edu), Dan Laky (dlaky@nd.edu)\n",
        "\n",
        "\n",
        "This file:\n",
        " 1. Simulates crystallization experiments, and adds measurement noise to the data.\n",
        " 2. Estimates the kinetic parameters using the collected data (parmest).\n",
        " 3. Uses model based design of experiments to optimize experimental design to achieve 'maximum' refinement of parameter estimations (Pyomo.DOE). \n",
        "\n",
        " Requires files: 'Cryst_model.py', 'Cryst_model_plot.py'\n",
        "\n",
        "==== Current build, VSC_01_Obj_Test: replacing Cryst_model_parmest into main body ===="
      ]
    },
    {
      "cell_type": "markdown",
      "metadata": {},
      "source": [
        "Changes from Batch Crystallizer V7: \n",
        "- Separates out functions into separate scripts\n",
        "- Added code for inital seeding conditions to Cryst_model\n",
        "- Built on foundations of MB-DoE framework\n",
        "\n",
        "Current Issues:\n",
        "- Cannot generate experiment to debug/improve/expand MB-DoE framework\n",
        "    - FIM generated from current setup gives 'zero matrix'\n",
        "    - More experiments required for more 'information'?\n",
        "\n",
        "Other notes:\n",
        "- Unsure if removing the functions into separate files (which will require importing packages e.g 'import numpy as np' each time) will make the system much less efficient.\n",
        "    - Might not be a big issue unless we have many visits to the function file."
      ]
    },
    {
      "cell_type": "markdown",
      "metadata": {
        "id": "ISfk_MCLGXkx"
      },
      "source": [
        "## Setup Environment"
      ]
    },
    {
      "cell_type": "code",
      "execution_count": 1,
      "metadata": {
        "id": "BUoNx4sGplxE"
      },
      "outputs": [],
      "source": [
        "# Imports\n",
        "\n",
        "import sys\n",
        "\n",
        "import numpy as np\n",
        "import matplotlib.pyplot as plt\n",
        "%matplotlib inline\n",
        "\n",
        "import pandas as pd\n",
        "\n",
        "import pyomo.environ as pyo\n",
        "from pyomo.dae import *\n",
        "from pyomo.contrib.doe import (ModelOptionLib, DesignOfExperiments, MeasurementVariables, DesignVariables)\n",
        "\n",
        "# Function files - newly separated from main body\n",
        "from Cryst_model import *\n",
        "from Cryst_model_plot import *\n",
        "# from Cryst_model_parmest import *"
      ]
    },
    {
      "cell_type": "markdown",
      "metadata": {
        "id": "XoE2B-f2Gdqd"
      },
      "source": [
        "## Define Typical Experiment and Model"
      ]
    },
    {
      "cell_type": "markdown",
      "metadata": {
        "id": "aJNMKm5vYE-t"
      },
      "source": [
        "Typical experiment and model now defined within Cryst_model.py"
      ]
    },
    {
      "cell_type": "code",
      "execution_count": 2,
      "metadata": {
        "id": "02ErJ84U094s"
      },
      "outputs": [],
      "source": [
        "m = Cryst_model(exp_conditions=exp)"
      ]
    },
    {
      "cell_type": "markdown",
      "metadata": {
        "id": "YSPOamaoWdmq"
      },
      "source": [
        "### Simulate Model"
      ]
    },
    {
      "cell_type": "markdown",
      "metadata": {
        "id": "pvegAuhjYqAN"
      },
      "source": [
        "Now, simulate the model."
      ]
    },
    {
      "cell_type": "code",
      "execution_count": 3,
      "metadata": {
        "colab": {
          "base_uri": "https://localhost:8080/"
        },
        "id": "e2GFkQISWcw-",
        "outputId": "c467ba0c-fac5-4e7a-e662-c4e88ee1df97"
      },
      "outputs": [
        {
          "name": "stdout",
          "output_type": "stream",
          "text": [
            "FORWARD INTEGRATION:\n",
            "Number of steps taken by SUNDIALS: 665\n",
            "Number of calls to the user's f function: 1268\n",
            "Number of calls made to the linear solver setup function: 87\n",
            "Number of error test failures: 26\n",
            "Method order used on the last internal step: 3\n",
            "Method order to be used on the next internal step: 3\n",
            "Actual value of initial step size: 0.00172767\n",
            "Step size taken on the last internal step: 15.3496\n",
            "Step size to be attempted on the next internal step: 30.6992\n",
            "Current internal time reached: 7200\n",
            "Number of nonlinear iterations performed: 1266\n",
            "Number of nonlinear convergence failures: 0\n",
            "\n"
          ]
        },
        {
          "name": "stderr",
          "output_type": "stream",
          "text": [
            "CasADi - 2024-03-12 20:45:40 WARNING(\"The options 't0', 'tf', 'grid' and 'output_t0' have been deprecated.\n",
            "The same functionality is provided by providing additional input arguments to the 'integrator' function, in particular:\n",
            " * Call integrator(..., t0, tf, options) for a single output time, or\n",
            " * Call integrator(..., t0, grid, options) for multiple grid points.\n",
            "The legacy 'output_t0' option can be emulated by including or excluding 't0' in 'grid'.\n",
            "Backwards compatibility is provided in this release only.\") [.../casadi/core/integrator.cpp:515]\n"
          ]
        }
      ],
      "source": [
        "# Specify integrator options\n",
        "int_ops = {'print_stats':True}\n",
        "\n",
        "# Solve using simulator\n",
        "sim = Simulator(m, package='casadi')\n",
        "tsim, profiles = sim.simulate(numpoints=100, integrator = 'idas', integrator_options=int_ops)"
      ]
    },
    {
      "cell_type": "markdown",
      "metadata": {
        "id": "BbStvJJ98MBg"
      },
      "source": [
        "### Plot function"
      ]
    },
    {
      "cell_type": "markdown",
      "metadata": {
        "id": "4eLmEFIjUBuL"
      },
      "source": [
        "Plotting function now within Cryst_model_plot.py"
      ]
    },
    {
      "cell_type": "markdown",
      "metadata": {
        "id": "WPPN0h9Y8Snn"
      },
      "source": [
        "### Simulator results"
      ]
    },
    {
      "cell_type": "code",
      "execution_count": 4,
      "metadata": {
        "colab": {
          "base_uri": "https://localhost:8080/",
          "height": 795
        },
        "id": "rHgtgunXWpyJ",
        "outputId": "617fd2da-8523-4e44-a0c0-d4a5a76df1d7"
      },
      "outputs": [
        {
          "name": "stdout",
          "output_type": "stream",
          "text": [
            "[   0.           72.72727273  145.45454545  218.18181818  290.90909091\n",
            "  363.63636364  436.36363636  509.09090909  581.81818182  654.54545455\n",
            "  727.27272727  800.          872.72727273  945.45454545 1018.18181818\n",
            " 1090.90909091 1163.63636364 1236.36363636 1309.09090909 1381.81818182\n",
            " 1454.54545455 1527.27272727 1600.         1672.72727273 1745.45454545\n",
            " 1818.18181818 1890.90909091 1963.63636364 2036.36363636 2109.09090909\n",
            " 2181.81818182 2254.54545455 2327.27272727 2400.         2472.72727273\n",
            " 2545.45454545 2618.18181818 2690.90909091 2763.63636364 2836.36363636\n",
            " 2909.09090909 2981.81818182 3054.54545455 3127.27272727 3200.\n",
            " 3272.72727273 3345.45454545 3418.18181818 3490.90909091 3563.63636364\n",
            " 3636.36363636 3709.09090909 3781.81818182 3854.54545455 3927.27272727\n",
            " 4000.         4072.72727273 4145.45454545 4218.18181818 4290.90909091\n",
            " 4363.63636364 4436.36363636 4509.09090909 4581.81818182 4654.54545455\n",
            " 4727.27272727 4800.         4872.72727273 4945.45454545 5018.18181818\n",
            " 5090.90909091 5163.63636364 5236.36363636 5309.09090909 5381.81818182\n",
            " 5454.54545455 5527.27272727 5600.         5672.72727273 5745.45454545\n",
            " 5818.18181818 5890.90909091 5963.63636364 6036.36363636 6109.09090909\n",
            " 6181.81818182 6254.54545455 6327.27272727 6400.         6472.72727273\n",
            " 6545.45454545 6618.18181818 6690.90909091 6763.63636364 6836.36363636\n",
            " 6909.09090909 6981.81818182 7054.54545455 7127.27272727 7200.        ]\n"
          ]
        },
        {
          "data": {
            "image/png": "[encoded data removed]",
            "text/plain": [
              "<Figure size 1200x800 with 8 Axes>"
            ]
          },
          "metadata": {},
          "output_type": "display_data"
        }
      ],
      "source": [
        "# Simulate results\n",
        "sim_results = Results(m)\n",
        "sim_results.load_from_simulator(tsim,profiles)\n",
        "sim_results.plot(undo_scaling=False)"
      ]
    },
    {
      "cell_type": "code",
      "execution_count": 5,
      "metadata": {
        "id": "dijGx3Sb2APz"
      },
      "outputs": [],
      "source": [
        "df=sim_results.to_pandas()\n",
        "# df.head()\n",
        "# df.to_csv(r'drive/MyDrive/data_beta_1.csv',index=False)"
      ]
    },
    {
      "cell_type": "markdown",
      "metadata": {
        "id": "a51_tTQZIC5f"
      },
      "source": [
        "### Temperature profile testing"
      ]
    },
    {
      "cell_type": "code",
      "execution_count": 6,
      "metadata": {
        "colab": {
          "base_uri": "https://localhost:8080/",
          "height": 177
        },
        "id": "qnFbRk_U33h8",
        "outputId": "3cc48d12-1ecb-4fc3-f48e-82caad5e6856"
      },
      "outputs": [
        {
          "data": {
            "text/plain": [
              "\"\\nm = pyo.ConcreteModel()\\n\\nm.t = ContinuousSet(bounds=(0, tau))\\n\\nm.T = pyo.Var(m.t, initialize = Ti, within = pyo.NonNegativeReals)\\n# m.mu0 = pyo.Var(m.t, initialize = 0, within = pyo.NonNegativeReals)\\n# m.dmu0 = DerivativeVar(m.mu0)\\n\\n@m.Constraint(m.t)\\ndef temperature(m, t):\\n    return m.T[t] == Ti - (Ti - Te)*(t / tau)**n\\n\\n# @m.Constraint(m.t)\\n# def ode1(m, t):\\n#     return m.dmu0[t] == 1e12\\n\\n# m.mu0[0.0].fix(0)\\n\\n\\npyo.TransformationFactory('dae.finite_difference').apply_to(m, nfe=20, scheme='BACKWARD')\\n\\npyo.SolverFactory('ipopt').solve(m)\\n\\nt_values = [t for t in m.t]\\n# mu0_values = [m.mu0[t]() for t in m.t]\\nT_values = [m.T[t]() for t in m.t]\\n\\nplt.plot(t_values, T_values)\\nplt.show()\\n\\n\""
            ]
          },
          "execution_count": 6,
          "metadata": {},
          "output_type": "execute_result"
        }
      ],
      "source": [
        "# Temperature profile testing\n",
        "Ti      = 323.9     # initial temperature [K]\n",
        "Te      = 293       # final temperature [K]\n",
        "n       = 6         # cooling profile order [-]\n",
        "\n",
        "# Small experiment with Pyomo.DAE\n",
        "'''\n",
        "m = pyo.ConcreteModel()\n",
        "\n",
        "m.t = ContinuousSet(bounds=(0, tau))\n",
        "\n",
        "m.T = pyo.Var(m.t, initialize = Ti, within = pyo.NonNegativeReals)\n",
        "# m.mu0 = pyo.Var(m.t, initialize = 0, within = pyo.NonNegativeReals)\n",
        "# m.dmu0 = DerivativeVar(m.mu0)\n",
        "\n",
        "@m.Constraint(m.t)\n",
        "def temperature(m, t):\n",
        "    return m.T[t] == Ti - (Ti - Te)*(t / tau)**n\n",
        "\n",
        "# @m.Constraint(m.t)\n",
        "# def ode1(m, t):\n",
        "#     return m.dmu0[t] == 1e12\n",
        "\n",
        "# m.mu0[0.0].fix(0)\n",
        "\n",
        "\n",
        "pyo.TransformationFactory('dae.finite_difference').apply_to(m, nfe=20, scheme='BACKWARD')\n",
        "\n",
        "pyo.SolverFactory('ipopt').solve(m)\n",
        "\n",
        "t_values = [t for t in m.t]\n",
        "# mu0_values = [m.mu0[t]() for t in m.t]\n",
        "T_values = [m.T[t]() for t in m.t]\n",
        "\n",
        "plt.plot(t_values, T_values)\n",
        "plt.show()\n",
        "\n",
        "'''"
      ]
    },
    {
      "cell_type": "markdown",
      "metadata": {
        "id": "UzQU1aVKZIGx"
      },
      "source": [
        "## Numerical Integration with Ipopt"
      ]
    },
    {
      "cell_type": "markdown",
      "metadata": {
        "id": "9aEY0WOpbGmL"
      },
      "source": [
        "### Discretize"
      ]
    },
    {
      "cell_type": "code",
      "execution_count": 7,
      "metadata": {
        "id": "GioajNEdZ0Vm"
      },
      "outputs": [],
      "source": [
        "# Discretization using finite difference\n",
        "# Add an objective. This is helpful for Degeneracy Hunter\n",
        "m.obj = pyo.Objective(expr=1)\n",
        "\n",
        "# Discretize the model\n",
        "# discretizer = pyo.TransformationFactory('dae.collocation')\n",
        "# discretizer.apply_to(m,nfe=100,scheme='LAGRANGE-RADAU',ncp=3)\n",
        "pyo.TransformationFactory('dae.finite_difference').apply_to(m, nfe=100, scheme='BACKWARD')\n",
        "\n",
        "# Initialize the model using the simulated profile\n",
        "# https://pyomo.readthedocs.io/en/stable/modeling_extensions/dae.html#from-simulation\n",
        "sim.initialize_model()"
      ]
    },
    {
      "cell_type": "markdown",
      "metadata": {
        "id": "_MzigkNubLck"
      },
      "source": [
        "### Check initialization at iteration 0"
      ]
    },
    {
      "cell_type": "code",
      "execution_count": 8,
      "metadata": {
        "colab": {
          "base_uri": "https://localhost:8080/"
        },
        "id": "i7lWE6EsZKJ3",
        "outputId": "2c2184a7-092f-4a93-c8ba-00a815d67d63"
      },
      "outputs": [
        {
          "name": "stdout",
          "output_type": "stream",
          "text": [
            "Ipopt 3.11.1: max_iter=1000\n",
            "linear_solver=mumps\n",
            "\n",
            "\n",
            "******************************************************************************\n",
            "This program contains Ipopt, a library for large-scale nonlinear optimization.\n",
            " Ipopt is released as open source code under the Eclipse Public License (EPL).\n",
            "         For more information visit http://projects.coin-or.org/Ipopt\n",
            "******************************************************************************\n",
            "\n",
            "NOTE: You are using Ipopt by default with the MUMPS linear solver.\n",
            "      Other linear solvers might be more efficient (see Ipopt documentation).\n",
            "\n",
            "\n",
            "This is Ipopt version 3.11.1, running with linear solver mumps.\n",
            "\n",
            "Number of nonzeros in equality constraint Jacobian...:     5908\n",
            "Number of nonzeros in inequality constraint Jacobian.:        0\n",
            "Number of nonzeros in Lagrangian Hessian.............:     1200\n",
            "\n",
            "Total number of variables............................:     2012\n",
            "                     variables with only lower bounds:     1204\n",
            "                variables with lower and upper bounds:        0\n",
            "                     variables with only upper bounds:        0\n",
            "Total number of equality constraints.................:     2012\n",
            "Total number of inequality constraints...............:        0\n",
            "        inequality constraints with only lower bounds:        0\n",
            "   inequality constraints with lower and upper bounds:        0\n",
            "        inequality constraints with only upper bounds:        0\n",
            "\n",
            "iter    objective    inf_pr   inf_du lg(mu)  ||d||  lg(rg) alpha_du alpha_pr  ls\n",
            "   0 1.0000000e+000 2.47e+000 1.00e+000  -1.0 0.00e+000    -  0.00e+000 0.00e+000   0\n",
            "   1 1.0000000e+000 1.86e-001 1.77e+003  -1.0 3.74e-001    -  8.50e-001 9.90e-001h  1\n",
            "   2 1.0000000e+000 2.76e-003 1.33e+004  -1.0 1.89e-001    -  9.92e-001 9.90e-001h  1\n",
            "   3 1.0000000e+000 8.28e-006 2.55e+004  -1.0 6.00e-003    -  7.45e-001 1.00e+000h  1\n",
            "   4 1.0000000e+000 2.66e-011 3.30e+006  -1.0 4.38e-002    -  1.00e+000 1.00e+000h  1\n",
            "\n",
            "Number of Iterations....: 4\n",
            "\n",
            "                                   (scaled)                 (unscaled)\n",
            "Objective...............:  1.0000000000000000e+000   1.0000000000000000e+000\n",
            "Dual infeasibility......:  0.0000000000000000e+000   0.0000000000000000e+000\n",
            "Constraint violation....:  1.4254203660754929e-011   2.6586066681488774e-011\n",
            "Complementarity.........:  0.0000000000000000e+000   0.0000000000000000e+000\n",
            "Overall NLP error.......:  1.4254203660754929e-011   2.6586066681488774e-011\n",
            "\n",
            "\n",
            "Number of objective function evaluations             = 5\n",
            "Number of objective gradient evaluations             = 5\n",
            "Number of equality constraint evaluations            = 5\n",
            "Number of inequality constraint evaluations          = 0\n",
            "Number of equality constraint Jacobian evaluations   = 5\n",
            "Number of inequality constraint Jacobian evaluations = 0\n",
            "Number of Lagrangian Hessian evaluations             = 4\n",
            "Total CPU secs in IPOPT (w/o function evaluations)   =      0.086\n",
            "Total CPU secs in NLP function evaluations           =      0.002\n",
            "\n",
            "EXIT: Optimal Solution Found.\n"
          ]
        },
        {
          "data": {
            "text/plain": [
              "{'Problem': [{'Lower bound': -inf, 'Upper bound': inf, 'Number of objectives': 1, 'Number of constraints': 2012, 'Number of variables': 2012, 'Sense': 'unknown'}], 'Solver': [{'Status': 'ok', 'Message': 'Ipopt 3.11.1\\\\x3a Optimal Solution Found', 'Termination condition': 'optimal', 'Id': 0, 'Error rc': 0, 'Time': 0.1932225227355957}], 'Solution': [OrderedDict([('number of solutions', 0), ('number of solutions displayed', 0)])]}"
            ]
          },
          "execution_count": 8,
          "metadata": {},
          "output_type": "execute_result"
        }
      ],
      "source": [
        "# Ipopt solver\n",
        "solver = pyo.SolverFactory('ipopt')\n",
        "#solver.options = {'bound_push':1E-8, 'max_iter':3000}\n",
        "\n",
        "# Use on Colab\n",
        "# solver.options = {'max_iter':500, 'linear_solver':'ma97'}\n",
        "\n",
        "# Use locally (no HSL)\n",
        "solver.options = {'max_iter':1000, 'linear_solver':'mumps'}\n",
        "\n",
        "solver.solve(m,tee=True)"
      ]
    },
    {
      "cell_type": "markdown",
      "metadata": {
        "id": "6JU-Hdpi0Bek"
      },
      "source": [
        "### Check Residuals (Optional)"
      ]
    },
    {
      "cell_type": "code",
      "execution_count": 9,
      "metadata": {
        "id": "xxiGVduPZlac"
      },
      "outputs": [],
      "source": [
        "if False:\n",
        "    # Declare MILP solver (for DH)\n",
        "    milp_solver = pyo.SolverFactory('cbc')\n",
        "\n",
        "    # Create Degeneracy Hunter object\n",
        "    from idaes.core.util.model_diagnostics import DegeneracyHunter\n",
        "    dh = DegeneracyHunter(m, solver=milp_solver)\n",
        "\n",
        "    # Print out equations with large residuals at the first iteration\n",
        "    dh.check_residuals(tol=0.1)"
      ]
    },
    {
      "cell_type": "markdown",
      "metadata": {
        "id": "JQp7h8x0W3e3"
      },
      "source": [
        "### Plot Results"
      ]
    },
    {
      "cell_type": "code",
      "execution_count": 10,
      "metadata": {
        "colab": {
          "base_uri": "https://localhost:8080/",
          "height": 441
        },
        "id": "hRzTayOuckP3",
        "outputId": "621f9a7d-4e6c-492f-cbc9-73247f1c7350"
      },
      "outputs": [
        {
          "data": {
            "image/png": "[encoded data removed]",
            "text/plain": [
              "<Figure size 1200x800 with 8 Axes>"
            ]
          },
          "metadata": {},
          "output_type": "display_data"
        }
      ],
      "source": [
        "# Plot results\n",
        "pyo_results = Results(m)\n",
        "pyo_results.load_from_pyomo_model(m)\n",
        "pyo_results.plot(undo_scaling=False)\n",
        "# modify plot function, show data as the dots for the regression (concentration plot with saturation)"
      ]
    },
    {
      "cell_type": "markdown",
      "metadata": {
        "id": "aI_4iGaMmjr2"
      },
      "source": [
        "## Dynamic Optimization"
      ]
    },
    {
      "cell_type": "markdown",
      "metadata": {
        "id": "orQP5pxSmllT"
      },
      "source": [
        "## Parameter Estimation"
      ]
    },
    {
      "cell_type": "markdown",
      "metadata": {
        "id": "Zq9oCptDTiki"
      },
      "source": [
        "### Generate Data\n",
        "\n",
        "https://ndcbe.github.io/optimization/notebooks/5/Parmest-generate-data.html\n",
        "\n"
      ]
    },
    {
      "cell_type": "code",
      "execution_count": 11,
      "metadata": {
        "colab": {
          "base_uri": "https://localhost:8080/"
        },
        "id": "uUwLSrb_BvJb",
        "outputId": "d79244a5-a201-4264-d8b7-6d0e069ab500"
      },
      "outputs": [
        {
          "data": {
            "text/plain": [
              "{'Ci': 0.11668,\n",
              " 'Ti': 323.9,\n",
              " 'tau': 7200,\n",
              " 'beta': 0.0016666666666666668,\n",
              " 'eps': 0.0005,\n",
              " 'M_seed': 0,\n",
              " 'Ls': 0.02}"
            ]
          },
          "execution_count": 11,
          "metadata": {},
          "output_type": "execute_result"
        }
      ],
      "source": [
        "typical_experiment()"
      ]
    },
    {
      "cell_type": "code",
      "execution_count": 12,
      "metadata": {
        "colab": {
          "base_uri": "https://localhost:8080/",
          "height": 1000
        },
        "id": "Fp27k2VQTiki",
        "outputId": "074efb1f-6fba-4a24-8c67-b205b8229029"
      },
      "outputs": [
        {
          "name": "stdout",
          "output_type": "stream",
          "text": [
            "\n",
            "***** Considering experiment 1  *****\n",
            "FORWARD INTEGRATION:\n",
            "Number of steps taken by SUNDIALS: 802\n",
            "Number of calls to the user's f function: 1361\n",
            "Number of calls made to the linear solver setup function: 88\n",
            "Number of error test failures: 27\n",
            "Method order used on the last internal step: 4\n",
            "Method order to be used on the next internal step: 4\n",
            "Actual value of initial step size: 0.00172767\n",
            "Step size taken on the last internal step: 79.1186\n",
            "Step size to be attempted on the next internal step: 158.237\n",
            "Current internal time reached: 7200\n",
            "Number of nonlinear iterations performed: 1359\n",
            "Number of nonlinear convergence failures: 0\n",
            "\n",
            "Ipopt 3.11.1: \n",
            "\n",
            "******************************************************************************\n",
            "This program contains Ipopt, a library for large-scale nonlinear optimization.\n",
            " Ipopt is released as open source code under the Eclipse Public License (EPL).\n",
            "         For more information visit http://projects.coin-or.org/Ipopt\n",
            "******************************************************************************\n",
            "\n",
            "NOTE: You are using Ipopt by default with the MUMPS linear solver.\n",
            "      Other linear solvers might be more efficient (see Ipopt documentation).\n",
            "\n",
            "\n",
            "This is Ipopt version 3.11.1, running with linear solver mumps.\n",
            "\n",
            "Number of nonzeros in equality constraint Jacobian...:     5908\n",
            "Number of nonzeros in inequality constraint Jacobian.:        0\n",
            "Number of nonzeros in Lagrangian Hessian.............:     1200\n",
            "\n",
            "Total number of variables............................:     2012\n",
            "                     variables with only lower bounds:     1204\n",
            "                variables with lower and upper bounds:        0\n",
            "                     variables with only upper bounds:        0\n",
            "Total number of equality constraints.................:     2012\n",
            "Total number of inequality constraints...............:        0\n",
            "        inequality constraints with only lower bounds:        0\n",
            "   inequality constraints with lower and upper bounds:        0\n",
            "        inequality constraints with only upper bounds:        0\n",
            "\n",
            "iter    objective    inf_pr   inf_du lg(mu)  ||d||  lg(rg) alpha_du alpha_pr  ls\n",
            "   0 1.0000000e+000 2.57e+000 1.00e+000  -1.0 0.00e+000    -  0.00e+000 0.00e+000   0\n",
            "   1 1.0000000e+000 1.62e-001 1.12e+003  -1.0 4.78e-001    -  8.04e-001 9.90e-001h  1\n",
            "   2 1.0000000e+000 2.90e-003 1.02e+004  -1.0 1.70e-001    -  9.92e-001 9.90e-001h  1\n",
            "   3 1.0000000e+000 1.29e-005 2.48e+004  -1.0 6.16e-003    -  7.52e-001 1.00e+000h  1\n",
            "   4 1.0000000e+000 4.19e-011 3.30e+006  -1.0 4.38e-002    -  1.00e+000 1.00e+000h  1\n",
            "\n",
            "Number of Iterations....: 4\n",
            "\n",
            "                                   (scaled)                 (unscaled)\n",
            "Objective...............:  1.0000000000000000e+000   1.0000000000000000e+000\n",
            "Dual infeasibility......:  0.0000000000000000e+000   0.0000000000000000e+000\n",
            "Constraint violation....:  1.5850593347863441e-011   4.1922909588265618e-011\n",
            "Complementarity.........:  0.0000000000000000e+000   0.0000000000000000e+000\n",
            "Overall NLP error.......:  1.5850593347863441e-011   4.1922909588265618e-011\n",
            "\n",
            "\n",
            "Number of objective function evaluations             = 5\n",
            "Number of objective gradient evaluations             = 5\n",
            "Number of equality constraint evaluations            = 5\n",
            "Number of inequality constraint evaluations          = 0\n",
            "Number of equality constraint Jacobian evaluations   = 5\n",
            "Number of inequality constraint Jacobian evaluations = 0\n",
            "Number of Lagrangian Hessian evaluations             = 4\n",
            "Total CPU secs in IPOPT (w/o function evaluations)   =      0.064\n",
            "Total CPU secs in NLP function evaluations           =      0.001\n",
            "\n",
            "EXIT: Optimal Solution Found.\n"
          ]
        },
        {
          "data": {
            "text/html": [
              "<div>\n",
              "<style scoped>\n",
              "    .dataframe tbody tr th:only-of-type {\n",
              "        vertical-align: middle;\n",
              "    }\n",
              "\n",
              "    .dataframe tbody tr th {\n",
              "        vertical-align: top;\n",
              "    }\n",
              "\n",
              "    .dataframe thead th {\n",
              "        text-align: right;\n",
              "    }\n",
              "</style>\n",
              "<table border=\"1\" class=\"dataframe\">\n",
              "  <thead>\n",
              "    <tr style=\"text-align: right;\">\n",
              "      <th></th>\n",
              "      <th>time</th>\n",
              "      <th>C</th>\n",
              "      <th>MT</th>\n",
              "      <th>avg_volume</th>\n",
              "      <th>Ci</th>\n",
              "      <th>Ti</th>\n",
              "    </tr>\n",
              "  </thead>\n",
              "  <tbody>\n",
              "    <tr>\n",
              "      <th>0</th>\n",
              "      <td>0.0</td>\n",
              "      <td>0.129754</td>\n",
              "      <td>-0.001012</td>\n",
              "      <td>0.000171</td>\n",
              "      <td>0.16</td>\n",
              "      <td>330.0</td>\n",
              "    </tr>\n",
              "    <tr>\n",
              "      <th>1</th>\n",
              "      <td>72.0</td>\n",
              "      <td>0.133760</td>\n",
              "      <td>0.000174</td>\n",
              "      <td>-0.017840</td>\n",
              "      <td>0.16</td>\n",
              "      <td>330.0</td>\n",
              "    </tr>\n",
              "    <tr>\n",
              "      <th>2</th>\n",
              "      <td>144.0</td>\n",
              "      <td>0.130848</td>\n",
              "      <td>0.001801</td>\n",
              "      <td>0.014467</td>\n",
              "      <td>0.16</td>\n",
              "      <td>330.0</td>\n",
              "    </tr>\n",
              "    <tr>\n",
              "      <th>3</th>\n",
              "      <td>216.0</td>\n",
              "      <td>0.132464</td>\n",
              "      <td>0.000969</td>\n",
              "      <td>0.014938</td>\n",
              "      <td>0.16</td>\n",
              "      <td>330.0</td>\n",
              "    </tr>\n",
              "    <tr>\n",
              "      <th>4</th>\n",
              "      <td>288.0</td>\n",
              "      <td>0.130908</td>\n",
              "      <td>0.000563</td>\n",
              "      <td>0.020832</td>\n",
              "      <td>0.16</td>\n",
              "      <td>330.0</td>\n",
              "    </tr>\n",
              "    <tr>\n",
              "      <th>...</th>\n",
              "      <td>...</td>\n",
              "      <td>...</td>\n",
              "      <td>...</td>\n",
              "      <td>...</td>\n",
              "      <td>...</td>\n",
              "      <td>...</td>\n",
              "    </tr>\n",
              "    <tr>\n",
              "      <th>96</th>\n",
              "      <td>6912.0</td>\n",
              "      <td>0.069963</td>\n",
              "      <td>0.060271</td>\n",
              "      <td>0.939559</td>\n",
              "      <td>0.16</td>\n",
              "      <td>330.0</td>\n",
              "    </tr>\n",
              "    <tr>\n",
              "      <th>97</th>\n",
              "      <td>6984.0</td>\n",
              "      <td>0.069924</td>\n",
              "      <td>0.060039</td>\n",
              "      <td>0.958800</td>\n",
              "      <td>0.16</td>\n",
              "      <td>330.0</td>\n",
              "    </tr>\n",
              "    <tr>\n",
              "      <th>98</th>\n",
              "      <td>7056.0</td>\n",
              "      <td>0.069682</td>\n",
              "      <td>0.061438</td>\n",
              "      <td>0.959089</td>\n",
              "      <td>0.16</td>\n",
              "      <td>330.0</td>\n",
              "    </tr>\n",
              "    <tr>\n",
              "      <th>99</th>\n",
              "      <td>7128.0</td>\n",
              "      <td>0.068404</td>\n",
              "      <td>0.061859</td>\n",
              "      <td>0.941668</td>\n",
              "      <td>0.16</td>\n",
              "      <td>330.0</td>\n",
              "    </tr>\n",
              "    <tr>\n",
              "      <th>100</th>\n",
              "      <td>7200.0</td>\n",
              "      <td>0.068068</td>\n",
              "      <td>0.062484</td>\n",
              "      <td>0.974340</td>\n",
              "      <td>0.16</td>\n",
              "      <td>330.0</td>\n",
              "    </tr>\n",
              "  </tbody>\n",
              "</table>\n",
              "<p>101 rows × 6 columns</p>\n",
              "</div>"
            ],
            "text/plain": [
              "       time         C        MT  avg_volume    Ci     Ti\n",
              "0       0.0  0.129754 -0.001012    0.000171  0.16  330.0\n",
              "1      72.0  0.133760  0.000174   -0.017840  0.16  330.0\n",
              "2     144.0  0.130848  0.001801    0.014467  0.16  330.0\n",
              "3     216.0  0.132464  0.000969    0.014938  0.16  330.0\n",
              "4     288.0  0.130908  0.000563    0.020832  0.16  330.0\n",
              "..      ...       ...       ...         ...   ...    ...\n",
              "96   6912.0  0.069963  0.060271    0.939559  0.16  330.0\n",
              "97   6984.0  0.069924  0.060039    0.958800  0.16  330.0\n",
              "98   7056.0  0.069682  0.061438    0.959089  0.16  330.0\n",
              "99   7128.0  0.068404  0.061859    0.941668  0.16  330.0\n",
              "100  7200.0  0.068068  0.062484    0.974340  0.16  330.0\n",
              "\n",
              "[101 rows x 6 columns]"
            ]
          },
          "metadata": {},
          "output_type": "display_data"
        },
        {
          "name": "stdout",
          "output_type": "stream",
          "text": [
            "\n",
            "***** Considering experiment 2  *****\n",
            "FORWARD INTEGRATION:\n",
            "Number of steps taken by SUNDIALS: 794\n",
            "Number of calls to the user's f function: 1367\n",
            "Number of calls made to the linear solver setup function: 87\n",
            "Number of error test failures: 30\n",
            "Method order used on the last internal step: 4\n",
            "Method order to be used on the next internal step: 4\n",
            "Actual value of initial step size: 0.00172766\n",
            "Step size taken on the last internal step: 51.6286\n",
            "Step size to be attempted on the next internal step: 51.6286\n",
            "Current internal time reached: 7200\n",
            "Number of nonlinear iterations performed: 1365\n",
            "Number of nonlinear convergence failures: 0\n",
            "\n",
            "Ipopt 3.11.1: \n",
            "\n",
            "******************************************************************************\n",
            "This program contains Ipopt, a library for large-scale nonlinear optimization.\n",
            " Ipopt is released as open source code under the Eclipse Public License (EPL).\n",
            "         For more information visit http://projects.coin-or.org/Ipopt\n",
            "******************************************************************************\n",
            "\n",
            "NOTE: You are using Ipopt by default with the MUMPS linear solver.\n",
            "      Other linear solvers might be more efficient (see Ipopt documentation).\n",
            "\n",
            "\n",
            "This is Ipopt version 3.11.1, running with linear solver mumps.\n",
            "\n",
            "Number of nonzeros in equality constraint Jacobian...:     5908\n",
            "Number of nonzeros in inequality constraint Jacobian.:        0\n",
            "Number of nonzeros in Lagrangian Hessian.............:     1200\n",
            "\n",
            "Total number of variables............................:     2012\n",
            "                     variables with only lower bounds:     1204\n",
            "                variables with lower and upper bounds:        0\n",
            "                     variables with only upper bounds:        0\n",
            "Total number of equality constraints.................:     2012\n",
            "Total number of inequality constraints...............:        0\n",
            "        inequality constraints with only lower bounds:        0\n",
            "   inequality constraints with lower and upper bounds:        0\n",
            "        inequality constraints with only upper bounds:        0\n",
            "\n",
            "iter    objective    inf_pr   inf_du lg(mu)  ||d||  lg(rg) alpha_du alpha_pr  ls\n",
            "   0 1.0000000e+000 2.41e+000 1.00e+000  -1.0 0.00e+000    -  0.00e+000 0.00e+000   0\n",
            "   1 1.0000000e+000 2.03e-001 2.19e+003  -1.0 3.27e-001    -  8.86e-001 9.86e-001h  1\n",
            "   2 1.0000000e+000 2.51e-003 1.92e+004  -1.0 1.95e-001    -  9.93e-001 9.90e-001h  1\n",
            "   3 1.0000000e+000 1.33e-005 2.67e+004  -1.0 7.86e-003    -  6.29e-001 9.97e-001h  1\n",
            "   4 1.0000000e+000 1.48e-009 2.26e+006  -1.0 3.92e-002    -  1.00e+000 1.00e+000h  1\n",
            "\n",
            "Number of Iterations....: 4\n",
            "\n",
            "                                   (scaled)                 (unscaled)\n",
            "Objective...............:  1.0000000000000000e+000   1.0000000000000000e+000\n",
            "Dual infeasibility......:  0.0000000000000000e+000   0.0000000000000000e+000\n",
            "Constraint violation....:  1.4772446670255062e-009   1.4772446670255062e-009\n",
            "Complementarity.........:  0.0000000000000000e+000   0.0000000000000000e+000\n",
            "Overall NLP error.......:  1.4772446670255062e-009   1.4772446670255062e-009\n",
            "\n",
            "\n",
            "Number of objective function evaluations             = 5\n",
            "Number of objective gradient evaluations             = 5\n",
            "Number of equality constraint evaluations            = 5\n",
            "Number of inequality constraint evaluations          = 0\n",
            "Number of equality constraint Jacobian evaluations   = 5\n",
            "Number of inequality constraint Jacobian evaluations = 0\n",
            "Number of Lagrangian Hessian evaluations             = 4\n",
            "Total CPU secs in IPOPT (w/o function evaluations)   =      0.053\n",
            "Total CPU secs in NLP function evaluations           =      0.004\n",
            "\n",
            "EXIT: Optimal Solution Found.\n"
          ]
        },
        {
          "data": {
            "text/html": [
              "<div>\n",
              "<style scoped>\n",
              "    .dataframe tbody tr th:only-of-type {\n",
              "        vertical-align: middle;\n",
              "    }\n",
              "\n",
              "    .dataframe tbody tr th {\n",
              "        vertical-align: top;\n",
              "    }\n",
              "\n",
              "    .dataframe thead th {\n",
              "        text-align: right;\n",
              "    }\n",
              "</style>\n",
              "<table border=\"1\" class=\"dataframe\">\n",
              "  <thead>\n",
              "    <tr style=\"text-align: right;\">\n",
              "      <th></th>\n",
              "      <th>time</th>\n",
              "      <th>C</th>\n",
              "      <th>MT</th>\n",
              "      <th>avg_volume</th>\n",
              "      <th>Ci</th>\n",
              "      <th>Ti</th>\n",
              "    </tr>\n",
              "  </thead>\n",
              "  <tbody>\n",
              "    <tr>\n",
              "      <th>0</th>\n",
              "      <td>0.0</td>\n",
              "      <td>0.075809</td>\n",
              "      <td>0.000010</td>\n",
              "      <td>0.024835</td>\n",
              "      <td>0.1</td>\n",
              "      <td>320.0</td>\n",
              "    </tr>\n",
              "    <tr>\n",
              "      <th>1</th>\n",
              "      <td>72.0</td>\n",
              "      <td>0.076074</td>\n",
              "      <td>-0.000263</td>\n",
              "      <td>0.031329</td>\n",
              "      <td>0.1</td>\n",
              "      <td>320.0</td>\n",
              "    </tr>\n",
              "    <tr>\n",
              "      <th>2</th>\n",
              "      <td>144.0</td>\n",
              "      <td>0.075190</td>\n",
              "      <td>-0.000054</td>\n",
              "      <td>0.016972</td>\n",
              "      <td>0.1</td>\n",
              "      <td>320.0</td>\n",
              "    </tr>\n",
              "    <tr>\n",
              "      <th>3</th>\n",
              "      <td>216.0</td>\n",
              "      <td>0.076055</td>\n",
              "      <td>-0.000068</td>\n",
              "      <td>-0.001575</td>\n",
              "      <td>0.1</td>\n",
              "      <td>320.0</td>\n",
              "    </tr>\n",
              "    <tr>\n",
              "      <th>4</th>\n",
              "      <td>288.0</td>\n",
              "      <td>0.075525</td>\n",
              "      <td>-0.000861</td>\n",
              "      <td>0.011308</td>\n",
              "      <td>0.1</td>\n",
              "      <td>320.0</td>\n",
              "    </tr>\n",
              "    <tr>\n",
              "      <th>...</th>\n",
              "      <td>...</td>\n",
              "      <td>...</td>\n",
              "      <td>...</td>\n",
              "      <td>...</td>\n",
              "      <td>...</td>\n",
              "      <td>...</td>\n",
              "    </tr>\n",
              "    <tr>\n",
              "      <th>96</th>\n",
              "      <td>6912.0</td>\n",
              "      <td>0.040418</td>\n",
              "      <td>0.034508</td>\n",
              "      <td>0.933127</td>\n",
              "      <td>0.1</td>\n",
              "      <td>320.0</td>\n",
              "    </tr>\n",
              "    <tr>\n",
              "      <th>97</th>\n",
              "      <td>6984.0</td>\n",
              "      <td>0.039960</td>\n",
              "      <td>0.034525</td>\n",
              "      <td>0.926640</td>\n",
              "      <td>0.1</td>\n",
              "      <td>320.0</td>\n",
              "    </tr>\n",
              "    <tr>\n",
              "      <th>98</th>\n",
              "      <td>7056.0</td>\n",
              "      <td>0.040547</td>\n",
              "      <td>0.035215</td>\n",
              "      <td>0.942801</td>\n",
              "      <td>0.1</td>\n",
              "      <td>320.0</td>\n",
              "    </tr>\n",
              "    <tr>\n",
              "      <th>99</th>\n",
              "      <td>7128.0</td>\n",
              "      <td>0.039100</td>\n",
              "      <td>0.035959</td>\n",
              "      <td>0.958059</td>\n",
              "      <td>0.1</td>\n",
              "      <td>320.0</td>\n",
              "    </tr>\n",
              "    <tr>\n",
              "      <th>100</th>\n",
              "      <td>7200.0</td>\n",
              "      <td>0.040577</td>\n",
              "      <td>0.035932</td>\n",
              "      <td>0.916892</td>\n",
              "      <td>0.1</td>\n",
              "      <td>320.0</td>\n",
              "    </tr>\n",
              "  </tbody>\n",
              "</table>\n",
              "<p>101 rows × 6 columns</p>\n",
              "</div>"
            ],
            "text/plain": [
              "       time         C        MT  avg_volume   Ci     Ti\n",
              "0       0.0  0.075809  0.000010    0.024835  0.1  320.0\n",
              "1      72.0  0.076074 -0.000263    0.031329  0.1  320.0\n",
              "2     144.0  0.075190 -0.000054    0.016972  0.1  320.0\n",
              "3     216.0  0.076055 -0.000068   -0.001575  0.1  320.0\n",
              "4     288.0  0.075525 -0.000861    0.011308  0.1  320.0\n",
              "..      ...       ...       ...         ...  ...    ...\n",
              "96   6912.0  0.040418  0.034508    0.933127  0.1  320.0\n",
              "97   6984.0  0.039960  0.034525    0.926640  0.1  320.0\n",
              "98   7056.0  0.040547  0.035215    0.942801  0.1  320.0\n",
              "99   7128.0  0.039100  0.035959    0.958059  0.1  320.0\n",
              "100  7200.0  0.040577  0.035932    0.916892  0.1  320.0\n",
              "\n",
              "[101 rows x 6 columns]"
            ]
          },
          "metadata": {},
          "output_type": "display_data"
        }
      ],
      "source": [
        "exp1 = typical_experiment()\n",
        "# exp1['Ci'] = 200 * 1e-3\n",
        "# exp1['Ti'] = 300\n",
        "\n",
        "exp1['Ci'] = 160 * 1e-3\n",
        "exp1['Ti'] = 330\n",
        "\n",
        "exp2 = typical_experiment()\n",
        "# exp2['Ci'] = 150 * 1e-3\n",
        "# exp2['Ti'] = 290\n",
        "\n",
        "exp2['Ci'] = 100 * 1e-3\n",
        "exp2['Ti'] = 320\n",
        "\n",
        "experiments = [exp1, exp2]\n",
        "\n",
        "list_of_exp_data_frames = []\n",
        "for i, exp in enumerate(experiments):\n",
        "\n",
        "    print(\"\\n***** Considering experiment\",i+1,\" *****\")\n",
        "\n",
        "    # Create Pyomo model\n",
        "    m = Cryst_model(exp_conditions=exp)\n",
        "\n",
        "    # Numerical intergrate to initialize\n",
        "\n",
        "    # Solve using simulator\n",
        "    int_ops = {'print_stats':True}\n",
        "    sim = Simulator(m, package='casadi')\n",
        "    tsim, profiles = sim.simulate(numpoints=100, integrator = 'idas', integrator_options=int_ops)\n",
        "\n",
        "    # Discretize\n",
        "    m.obj = pyo.Objective(expr=1)\n",
        "    pyo.TransformationFactory('dae.finite_difference').apply_to(m, nfe=100, scheme='BACKWARD')\n",
        "    sim.initialize_model()\n",
        "\n",
        "    # Solve with Ipopt\n",
        "    solver = pyo.SolverFactory('ipopt')\n",
        "    solver.solve(m,tee=True)\n",
        "\n",
        "    # Extract results\n",
        "    results = Results(m)\n",
        "    results.load_from_pyomo_model(m)\n",
        "\n",
        "    n = len(results.mu3)\n",
        "    mu4_div_mu3 = np.zeros(n)\n",
        "    for i in range(n):\n",
        "        mu4_div_mu3[i] = results.mu4[i]/(results.mu3[i] + 1e-8)\n",
        "\n",
        "    # Add noise to data\n",
        "    def add_noise(vector):\n",
        "        return np.array(vector) + np.random.normal(0, 0.05*np.std(vector), len(vector))\n",
        "\n",
        "    C = add_noise(results.C)\n",
        "    MT = add_noise(results.MT)\n",
        "    mu4_div_mu3 = add_noise(mu4_div_mu3)\n",
        "\n",
        "    Ci = np.ones(n)*exp['Ci']\n",
        "    Ti = np.ones(n)*exp['Ti']\n",
        "\n",
        "    df_temp = pd.DataFrame({\"time\":results.time,\"C\":C,\"MT\":MT,\"avg_volume\":mu4_div_mu3,\"Ci\":Ci,\"Ti\":Ti})\n",
        "    display(df_temp)\n",
        "\n",
        "    list_of_exp_data_frames.append(df_temp)\n",
        "\n",
        "\n"
      ]
    },
    {
      "cell_type": "markdown",
      "metadata": {
        "id": "fdrDcWvWTiki"
      },
      "source": [
        "### Estimate with Parmest\n",
        "\n",
        "https://ndcbe.github.io/optimization/notebooks/5/Parmest-tutorial.html\n"
      ]
    },
    {
      "cell_type": "code",
      "execution_count": 13,
      "metadata": {},
      "outputs": [],
      "source": [
        "def Cryst_model_parmest(data):\n",
        "    '''\n",
        "    Special create_model function for parmest\n",
        "    '''\n",
        "    ## Setup experiment model\n",
        "    exp = typical_experiment()\n",
        "    exp['Ci'] = data.Ci.iloc[0]\n",
        "    exp['Ti'] = data.Ti.iloc[0]\n",
        "\n",
        "    m = Cryst_model(exp_conditions=exp,time_points=data.time.to_list())\n",
        "\n",
        "    ## Numerical intergrate to initialize\n",
        "\n",
        "    # Solve using simulator\n",
        "    sim = Simulator(m, package='casadi')\n",
        "    tsim, profiles = sim.simulate(integrator = 'idas')\n",
        "\n",
        "    ## Discretize\n",
        "    pyo.TransformationFactory('dae.finite_difference').apply_to(m, nfe=100,scheme='BACKWARD')\n",
        "    sim.initialize_model()\n",
        "    ## Prepare data\n",
        "\n",
        "    C_measure={}\n",
        "    MT_measure={}\n",
        "    avg_vol_measure={}\n",
        "    t_measure = data.time.to_list()\n",
        "    for i,t in enumerate(data.time):\n",
        "        C_measure[float(t)] = data.Ci[i]\n",
        "        MT_measure[float(t)] = data.MT[i]\n",
        "        avg_vol_measure[float(t)] = data.avg_volume[i]\n",
        "\n",
        "    # Least squares objective\n",
        "\n",
        "    def ComputeFirstStageCost_rule(m):\n",
        "        return 0\n",
        "    m.FirstStageCost = pyo.Expression(rule=ComputeFirstStageCost_rule)\n",
        "\n",
        "    def ComputeSecondStageCost_rule(m):\n",
        "      # measurements\n",
        "        return sum((m.C[t] - C_measure[t]) ** 2 + (m.MT[t] - MT_measure[t]) ** 2\n",
        "                       + (m.avg_vol[t] - avg_vol_measure[t]) ** 2 for t in t_measure)\n",
        "        # return sum((m.C[t] - C_measure[t]) ** 2\n",
        "                      #  + (100 * m.avg_vol[t] - 100 * avg_vol_measure[t]) ** 2 for t in t_measure)\n",
        "    m.SecondStageCost = pyo.Expression(rule=ComputeSecondStageCost_rule)\n",
        "\n",
        "    # return the sum of the first-stage and second-stage costs as the objective function\n",
        "    def total_cost_rule(m):\n",
        "        return m.FirstStageCost + m.SecondStageCost\n",
        "\n",
        "    m.total_cost_objective = pyo.Objective(rule=total_cost_rule, sense=pyo.minimize)\n",
        "\n",
        "    return m"
      ]
    },
    {
      "cell_type": "code",
      "execution_count": 14,
      "metadata": {
        "colab": {
          "base_uri": "https://localhost:8080/"
        },
        "id": "t4hYSdEtTikj",
        "outputId": "bdbfca96-1a00-47d0-cc99-98bb3bacb87e"
      },
      "outputs": [
        {
          "name": "stdout",
          "output_type": "stream",
          "text": [
            "['kb1', 'b1', 'kb2', 'b2', 'kg', 'g']\n",
            "Ipopt 3.11.1: halt_on_ampl_error=yes\n",
            "linear_solver=ma97\n",
            "\n",
            "\n",
            "******************************************************************************\n",
            "This program contains Ipopt, a library for large-scale nonlinear optimization.\n",
            " Ipopt is released as open source code under the Eclipse Public License (EPL).\n",
            "         For more information visit http://projects.coin-or.org/Ipopt\n",
            "******************************************************************************\n",
            "\n",
            "NOTE: You are using Ipopt by default with the MUMPS linear solver.\n",
            "      Other linear solvers might be more efficient (see Ipopt documentation).\n",
            "\n",
            "\n",
            "This is Ipopt version 3.11.1, running with linear solver ma97.\n",
            "\n",
            "Number of nonzeros in equality constraint Jacobian...:    13040\n",
            "Number of nonzeros in inequality constraint Jacobian.:        0\n",
            "Number of nonzeros in Lagrangian Hessian.............:     5420\n",
            "\n",
            "Total number of variables............................:     4036\n",
            "                     variables with only lower bounds:     2408\n",
            "                variables with lower and upper bounds:       12\n",
            "                     variables with only upper bounds:        0\n",
            "Total number of equality constraints.................:     4030\n",
            "Total number of inequality constraints...............:        0\n",
            "        inequality constraints with only lower bounds:        0\n",
            "   inequality constraints with lower and upper bounds:        0\n",
            "        inequality constraints with only upper bounds:        0\n",
            "\n",
            "iter    objective    inf_pr   inf_du lg(mu)  ||d||  lg(rg) alpha_du alpha_pr  ls\n",
            "   0 4.4510502e+001 2.57e+000 1.90e+000  -1.0 0.00e+000    -  0.00e+000 0.00e+000   0\n",
            "   1 4.4391855e+001 2.17e+000 1.64e+001  -1.0 1.25e+000    -  6.57e-001 1.61e-001f  1\n",
            "   2 4.3704195e+001 5.78e-001 6.23e+002  -1.0 1.47e+000    -  4.02e-001 9.61e-001h  1\n",
            "   3 4.3688099e+001 4.11e-001 7.35e+002  -1.0 3.08e+000    -  1.71e-001 3.96e-001f  1\n",
            "   4 4.3754597e+001 3.59e-001 6.49e+002  -1.0 2.14e+000    -  4.38e-001 1.14e-001f  1\n",
            "   5 4.3464200e+001 1.06e+000 6.28e+002  -1.0 1.13e+001    -  5.59e-003 1.44e-001f  1\n",
            "   6 4.3703976e+001 2.17e+000 6.44e+002  -1.0 5.16e+000    -  1.23e-001 7.00e-001f  1\n",
            "   7 4.5960648e+001 5.62e+000 9.57e+002  -1.0 3.03e+001    -  6.70e-002 2.51e-001f  1\n",
            "   8 4.6496157e+001 9.25e+000 1.31e+004  -1.0 9.49e+000    -  3.41e-002 9.90e-001f  1\n",
            "   9 4.6525389e+001 9.19e+000 1.31e+004  -1.0 4.66e+001    -  5.28e-004 6.46e-003f  1\n",
            "iter    objective    inf_pr   inf_du lg(mu)  ||d||  lg(rg) alpha_du alpha_pr  ls\n",
            "  10 4.6698189e+001 8.75e+000 1.68e+004  -1.0 3.54e+001    -  7.06e-003 4.94e-002f  1\n",
            "  11 4.6840166e+001 8.43e+000 1.71e+004  -1.0 4.06e+001    -  3.36e-002 3.57e-002f  1\n",
            "  12 4.6845519e+001 8.36e+000 1.72e+004  -1.0 8.95e+000    -  4.94e-003 7.69e-003h  1\n",
            "  13 4.6931781e+001 1.48e+000 2.66e+005  -1.0 5.46e+000    -  1.47e-002 8.64e-001h  1\n",
            "  14 4.6958675e+001 1.35e+000 5.70e+005  -1.0 6.53e+000    -  2.51e-001 8.65e-002f  1\n",
            "  15 4.6997594e+001 7.43e-001 2.03e+006  -1.0 4.26e+000    -  1.45e-001 4.14e-001f  1\n",
            "  16 4.7173724e+001 5.36e-001 2.02e+006  -1.0 4.77e+000    -  5.55e-001 7.85e-001f  1\n",
            "  17 4.7379373e+001 5.84e+000 5.48e+006  -1.0 3.16e+001    -  1.52e-001 3.42e-001f  1\n",
            "  18 4.7381051e+001 4.72e+000 4.27e+006  -1.0 1.65e+001  -2.0 4.25e-002 1.92e-001f  1\n",
            "  19 4.7384683e+001 1.47e+000 1.45e+006  -1.0 8.76e+000  -1.6 5.55e-001 1.00e+000f  1\n",
            "iter    objective    inf_pr   inf_du lg(mu)  ||d||  lg(rg) alpha_du alpha_pr  ls\n",
            "  20 4.7372978e+001 1.20e+000 1.25e+006  -1.0 9.45e+000  -1.1 4.71e-001 3.32e-001f  1\n",
            "  21 4.7405806e+001 4.88e-002 2.84e+004  -1.0 1.60e+000  -0.7 1.00e+000 1.00e+000f  1\n",
            "  22 4.7410015e+001 7.45e-002 1.88e+005  -1.0 1.35e+000  -1.2 3.52e-001 1.00e+000f  1\n",
            "  23 4.7309759e+001 9.66e-001 2.80e+004  -1.0 5.89e+000  -1.7 8.56e-001 1.00e+000f  1\n",
            "  24 4.7026261e+001 1.02e+001 1.20e+006  -1.0 2.24e+001  -2.2 3.46e-001 1.00e+000f  1\n",
            "  25 4.6726072e+001 1.02e+001 3.92e+005  -1.0 1.49e+002    -  3.03e-002 7.36e-002h  1\n",
            "  26 4.7262224e+001 8.05e+000 8.15e+005  -1.0 7.52e+001    -  9.10e-002 1.49e-001f  1\n",
            "  27 4.7182763e+001 7.30e+000 1.24e+006  -1.0 4.43e+001    -  2.20e-001 9.51e-002f  1\n",
            "  28 4.7413476e+001 5.09e+000 4.08e+005  -1.0 3.37e+001    -  7.10e-001 2.78e-001f  1\n",
            "  29 4.7702186e+001 4.18e+000 7.42e+005  -1.0 1.34e+002    -  4.43e-001 1.79e-001f  1\n",
            "iter    objective    inf_pr   inf_du lg(mu)  ||d||  lg(rg) alpha_du alpha_pr  ls\n",
            "  30 4.9750911e+001 6.45e+001 8.80e+005  -1.0 1.68e+002    -  3.91e-001 1.00e+000f  1\n",
            "  31 4.9857810e+001 3.80e+001 5.10e+005  -1.0 2.44e+002    -  4.15e-001 4.21e-001h  1\n",
            "  32 5.1015216e+001 2.08e+001 1.36e+006  -1.0 4.14e+002    -  4.82e-001 1.00e+000f  1\n",
            "  33 5.1100902e+001 7.96e+001 5.10e+005  -1.0 6.17e+002    -  3.37e-001 1.00e+000f  1\n",
            "  34 5.2192385e+001 6.59e+001 1.52e+006  -1.0 1.29e+003    -  3.05e-001 1.00e+000h  1\n",
            "  35 5.2092205e+001 3.53e+001 5.35e+005  -1.0 1.33e+003    -  5.31e-001 8.07e-001h  1\n",
            "  36 5.2126282e+001 3.14e+001 7.62e+005  -1.0 2.25e+003    -  1.00e+000 1.63e-001h  1\n",
            "  37 5.2232577e+001 2.49e+001 1.71e+006  -1.0 2.73e+003    -  1.00e+000 3.41e-001h  1\n",
            "  38 5.2306280e+001 2.65e+001 2.82e+004  -1.0 1.04e+003    -  1.00e+000 1.00e+000h  1\n",
            "  39 5.2337910e+001 2.87e+001 2.08e+007  -1.0 5.04e+003    -  8.16e-001 7.87e-002h  2\n",
            "iter    objective    inf_pr   inf_du lg(mu)  ||d||  lg(rg) alpha_du alpha_pr  ls\n",
            "  40 5.2392446e+001 1.94e+001 8.18e+003  -1.0 8.17e+002    -  1.00e+000 1.00e+000h  1\n",
            "  41 5.2422978e+001 2.27e+001 1.58e+007  -1.0 3.43e+003    -  1.00e+000 1.41e-001h  2\n",
            "  42 5.2463375e+001 1.45e+001 3.92e+003  -1.0 7.57e+002    -  1.00e+000 1.00e+000h  1\n",
            "  43 5.2493275e+001 1.85e+001 4.16e+006  -1.0 2.38e+003    -  1.00e+000 2.40e-001h  2\n",
            "  44 5.2526150e+001 1.18e+001 3.01e+004  -1.0 7.30e+002    -  1.00e+000 1.00e+000h  1\n",
            "  45 5.2539893e+001 1.08e+001 9.30e+005  -1.0 1.26e+003    -  1.00e+000 2.50e-001h  3\n",
            "  46 5.2560192e+001 5.18e+000 1.42e+004  -1.0 5.05e+002    -  1.00e+000 1.00e+000h  1\n",
            "  47 5.2580291e+001 5.04e+000 2.08e+004  -1.0 5.09e+002    -  1.00e+000 1.00e+000h  1\n",
            "  48 5.2580049e+001 7.67e-003 4.85e+001  -1.0 8.89e+000    -  1.00e+000 1.00e+000h  1\n",
            "  49 5.2575843e+001 2.18e-001 6.29e+005  -3.8 1.09e+002    -  9.32e-001 1.00e+000h  1\n",
            "iter    objective    inf_pr   inf_du lg(mu)  ||d||  lg(rg) alpha_du alpha_pr  ls\n",
            "  50 5.2564564e+001 1.32e+000 9.65e+004  -3.8 2.85e+002    -  8.31e-001 1.00e+000h  1\n",
            "  51 5.2010571e+001 6.74e+002 8.76e+004  -3.8 1.11e+004    -  9.51e-002 9.53e-001h  1\n",
            "  52 5.1859186e+001 6.46e+002 1.06e+005  -3.8 2.26e+003    -  8.93e-002 3.35e-002h  1\n",
            "  53 5.1035069e+001 3.31e+002 1.19e+005  -3.8 1.05e+002    -  6.37e-002 6.66e-001h  1\n",
            "  54 4.9812100e+001 1.16e+002 1.42e+005  -3.8 2.06e+001  -2.6 2.22e-003 1.00e+000h  1\n",
            "  55 4.9807101e+001 1.15e+002 1.21e+005  -3.8 2.87e+000  -1.3 1.35e-001 8.07e-003h  1\n",
            "  56 4.9479344e+001 6.57e+001 8.26e+004  -3.8 3.55e+000  -1.8 3.71e-001 5.36e-001h  1\n",
            "  57 4.9326685e+001 4.72e+001 4.43e+004  -3.8 5.93e+000  -2.3 5.10e-001 3.16e-001h  1\n",
            "  58 4.8985488e+001 2.33e+001 1.90e+004  -3.8 1.13e+001  -2.7 1.00e+000 6.12e-001h  1\n",
            "  59 4.8482065e+001 8.01e+000 4.17e+003  -3.8 1.53e+001  -3.2 1.00e+000 7.28e-001h  1\n",
            "iter    objective    inf_pr   inf_du lg(mu)  ||d||  lg(rg) alpha_du alpha_pr  ls\n",
            "  60 4.8446476e+001 1.27e+000 1.41e+003  -3.8 4.14e+000  -3.7 2.17e-001 1.00e+000h  1\n",
            "  61 4.8313357e+001 4.53e-001 5.44e+000  -3.8 6.78e+000  -4.2 1.00e+000 1.00e+000h  1\n",
            "  62 4.8011950e+001 1.56e+000 4.52e+003  -3.8 2.47e+001  -4.6 1.45e-001 5.94e-001h  1\n",
            "  63 4.7548812e+001 6.45e+000 2.56e+001  -3.8 2.31e+001  -4.2 1.00e+000 1.00e+000h  1\n",
            "  64 4.7470253e+001 6.56e+000 9.65e+003  -3.8 4.02e+002  -4.7 3.60e-002 5.74e-003h  1\n",
            "  65 4.7272582e+001 6.87e+000 6.18e+004  -3.8 1.07e+003  -5.2 4.01e-002 6.15e-003h  1\n",
            "  66 4.6559846e+001 4.57e+000 2.24e+006  -3.8 2.96e+001  -4.7 2.52e-002 7.94e-001h  1\n",
            "  67 4.6376377e+001 3.81e+000 1.79e+006  -3.8 1.38e+001  -4.3 3.48e-001 2.02e-001h  1\n",
            "  68 4.5755131e+001 3.02e+000 1.34e+006  -3.8 8.14e+001  -4.8 1.00e+000 2.55e-001h  1\n",
            "  69 4.5754187e+001 3.01e+000 1.34e+006  -3.8 1.21e+002    -  1.59e-002 1.94e-004h  1\n",
            "iter    objective    inf_pr   inf_du lg(mu)  ||d||  lg(rg) alpha_du alpha_pr  ls\n",
            "  70 4.4900878e+001 1.82e+000 6.36e+005  -3.8 3.00e+001  -4.4 6.50e-002 5.35e-001f  1\n",
            "  71 4.4900333e+001 1.82e+000 6.36e+005  -3.8 1.86e+001  -3.9 3.73e-002 3.28e-004h  1\n",
            "  72 4.4859656e+001 1.81e+000 6.24e+005  -3.8 9.82e+001  -4.4 8.29e-002 7.59e-003h  1\n",
            "  73 4.4774952e+001 1.78e+000 6.13e+005  -3.8 8.20e+001    -  5.83e-003 1.77e-002h  1\n",
            "  74 4.4774427e+001 1.78e+000 6.14e+005  -3.8 2.34e+001  -4.0 7.45e-002 2.66e-004h  1\n",
            "  75 4.4771300e+001 1.78e+000 6.10e+005  -3.8 1.91e+002  -4.5 5.72e-002 3.03e-004h  1\n",
            "  76 4.3570840e+001 1.35e+000 4.36e+005  -3.8 7.02e+001    -  8.27e-003 2.84e-001f  1\n",
            "  77 4.2888891e+001 1.23e+000 3.97e+005  -3.8 7.06e+001  -4.0 2.33e-002 8.99e-002h  1\n",
            "  78 3.9916522e+001 1.51e+000 1.54e+005  -3.8 2.75e+001  -3.6 5.86e-002 6.12e-001h  1\n",
            "  79 3.9915208e+001 1.51e+000 1.54e+005  -3.8 5.70e+001  -3.2 2.52e-002 4.61e-005h  1\n",
            "iter    objective    inf_pr   inf_du lg(mu)  ||d||  lg(rg) alpha_du alpha_pr  ls\n",
            "  80 3.9189653e+001 1.35e+000 1.37e+005  -3.8 6.37e+000    -  5.10e-001 1.12e-001h  1\n",
            "  81 3.7299844e+001 1.01e+000 9.75e+004  -3.8 7.71e+000    -  1.00e+000 2.88e-001h  1\n",
            "  82 3.7299046e+001 1.01e+000 9.75e+004  -3.8 8.91e+000    -  3.95e-002 1.12e-004h  1\n",
            "  83 3.5642876e+001 7.97e-001 7.40e+004  -3.8 8.94e+000    -  1.68e-001 2.41e-001h  1\n",
            "  84 3.2926736e+001 7.38e-001 4.61e+004  -3.8 1.39e+001    -  3.16e-001 3.77e-001h  1\n",
            "  85 3.1942881e+001 6.50e-001 4.00e+004  -3.8 8.37e+000    -  2.86e-002 1.33e-001h  1\n",
            "  86 3.0611143e+001 5.49e-001 3.25e+004  -3.8 7.19e+000    -  1.00e+000 1.85e-001h  1\n",
            "  87 2.7507171e+001 4.94e-001 1.83e+004  -3.8 8.55e+000    -  3.51e-001 4.36e-001h  1\n",
            "  88 2.3383741e+001 5.34e-001 2.09e+004  -3.8 8.58e+000    -  4.14e-001 5.64e-001f  1\n",
            "  89 1.9601691e+001 8.59e-001 1.15e+004  -3.8 1.50e+001    -  2.16e-001 4.84e-001f  1\n",
            "iter    objective    inf_pr   inf_du lg(mu)  ||d||  lg(rg) alpha_du alpha_pr  ls\n",
            "  90 1.6958830e+001 6.35e-001 1.13e+004  -3.8 1.09e+001    -  1.00e+000 3.55e-001f  1\n",
            "  91 1.5189768e+001 5.71e-001 9.74e+003  -3.8 1.30e+001    -  7.71e-001 2.45e-001f  1\n",
            "  92 1.4426661e+001 5.05e-001 8.66e+003  -3.8 1.25e+001    -  3.53e-002 1.15e-001h  1\n",
            "  93 1.1886904e+001 5.69e-001 6.31e+003  -3.8 1.41e+001    -  1.00e+000 3.95e-001f  1\n",
            "  94 1.1682161e+001 5.51e-001 7.09e+003  -3.8 1.29e+001    -  1.00e-001 3.32e-002h  1\n",
            "  95 8.6944658e+000 5.47e-001 1.36e+004  -3.8 1.28e+001    -  2.65e-001 5.66e-001f  1\n",
            "  96 8.5085355e+000 5.27e-001 1.32e+004  -3.8 1.43e+001    -  4.06e-001 3.83e-002h  1\n",
            "  97 7.3451396e+000 4.43e-001 9.58e+003  -3.8 1.44e+001    -  9.01e-002 2.61e-001h  1\n",
            "  98 6.2863963e+000 3.78e-001 6.97e+003  -3.8 1.46e+001    -  6.77e-001 2.93e-001h  1\n",
            "  99 5.4861669e+000 3.32e-001 1.03e+004  -3.8 1.49e+001    -  2.22e-002 2.97e-001h  1\n",
            "iter    objective    inf_pr   inf_du lg(mu)  ||d||  lg(rg) alpha_du alpha_pr  ls\n",
            " 100 4.8729697e+000 7.50e-001 5.50e+004  -3.8 1.50e+001    -  9.37e-002 9.96e-001f  1\n",
            " 101 4.7660655e+000 6.75e-001 4.96e+004  -3.8 1.08e+001    -  4.85e-002 1.08e-001h  1\n",
            " 102 5.3785461e+000 5.26e-001 1.00e+005  -3.8 1.59e+001    -  1.62e-002 3.64e-001h  2\n",
            " 103 5.0703386e+000 5.12e-001 9.13e+004  -3.8 3.01e+001    -  1.04e-001 7.56e-002h  1\n",
            " 104 5.0465529e+000 5.07e-001 9.04e+004  -3.8 1.82e+001    -  5.18e-002 9.70e-003h  1\n",
            " 105 4.8705259e+000 4.61e-001 9.19e+004  -3.8 1.23e+001    -  1.59e-003 1.12e-001f  1\n",
            " 106 4.7131366e+000 4.28e-001 7.33e+004  -3.8 1.39e+001    -  7.06e-003 9.25e-002f  1\n",
            " 107 4.7131505e+000 4.28e-001 7.33e+004  -3.8 1.47e+001    -  9.48e-003 2.34e-005h  1\n",
            " 108 4.7856703e+000 3.96e-001 6.76e+004  -3.8 4.36e+001    -  4.09e-003 7.73e-002h  1\n",
            " 109 4.8102006e+000 3.93e-001 6.46e+004  -3.8 4.60e+001    -  1.00e-002 4.47e-002h  1\n",
            "iter    objective    inf_pr   inf_du lg(mu)  ||d||  lg(rg) alpha_du alpha_pr  ls\n",
            " 110 4.8280268e+000 3.88e-001 6.25e+004  -3.8 4.37e+001    -  1.15e-002 3.22e-002h  1\n",
            " 111 4.9105582e+000 4.60e-001 5.41e+004  -3.8 4.06e+001    -  2.59e-003 1.34e-001h  1\n",
            " 112 4.9212953e+000 4.50e-001 5.24e+004  -3.8 3.50e+001    -  2.48e-004 3.13e-002h  6\n",
            " 113 4.9387703e+000 4.28e-001 4.92e+004  -3.8 2.48e+001    -  2.40e-002 6.25e-002h  5\n",
            " 114 5.0951467e+000 1.35e-001 1.44e+004  -3.8 1.19e+001    -  5.46e-002 1.00e+000H  1\n",
            " 115 4.8511584e+000 1.92e-001 1.65e+003  -3.8 8.78e+000  -3.7 4.87e-001 1.00e+000H  1\n",
            " 116 4.5543947e+000 1.26e+000 1.63e+003  -3.8 8.83e+002    -  1.55e-002 1.12e-002f  1\n",
            " 117 4.2701162e+000 9.54e-001 8.09e+004  -3.8 1.19e+001    -  7.49e-001 4.82e-001h  1\n",
            " 118 3.9586712e+000 3.32e+000 4.36e+004  -3.8 2.83e+001  -4.1 7.41e-001 3.54e-001h  1\n",
            " 119 3.9156938e+000 3.18e+000 6.57e+003  -3.8 2.91e+001    -  2.83e-001 6.80e-002h  1\n",
            "iter    objective    inf_pr   inf_du lg(mu)  ||d||  lg(rg) alpha_du alpha_pr  ls\n",
            " 120 3.7363508e+000 2.75e+000 3.53e+004  -3.8 1.74e+001    -  2.08e-001 2.99e-001h  1\n",
            " 121 3.5368202e+000 1.71e+000 3.28e+004  -3.8 1.19e+001    -  8.32e-002 4.00e-001h  1\n",
            " 122 3.4834460e+000 1.68e+000 3.05e+004  -3.8 3.03e+001    -  2.70e-003 7.08e-002h  1\n",
            " 123 3.4225071e+000 2.02e+000 1.48e+005  -3.8 6.83e+001    -  4.32e-003 5.26e-002f  1\n",
            " 124 3.3355917e+000 1.82e+000 1.40e+005  -3.8 1.70e+001    -  3.72e-002 1.44e-001h  1\n",
            " 125 3.2767198e+000 1.66e+000 1.90e+005  -3.8 1.47e+001    -  1.00e+000 9.55e-002h  1\n",
            " 126 3.1145411e+000 1.35e+000 1.17e+005  -3.8 1.43e+001    -  1.00e+000 2.77e-001h  1\n",
            " 127 2.9251506e+000 1.10e+000 1.20e+005  -3.8 1.34e+001    -  1.86e-002 3.50e-001h  1\n",
            " 128 2.7895522e+000 9.96e-001 9.16e+004  -3.8 1.39e+001    -  5.61e-002 2.37e-001h  1\n",
            " 129 2.5909365e+000 9.29e-001 5.91e+004  -3.8 1.30e+001    -  1.00e+000 3.57e-001h  1\n",
            "iter    objective    inf_pr   inf_du lg(mu)  ||d||  lg(rg) alpha_du alpha_pr  ls\n",
            " 130 2.5370901e+000 8.60e-001 5.34e+004  -3.8 1.26e+001    -  2.30e-001 9.58e-002h  1\n",
            " 131 2.2543590e+000 1.10e+000 2.43e+004  -3.8 1.24e+001    -  1.63e-001 5.45e-001h  1\n",
            " 132 2.0955570e+000 9.80e-001 1.66e+004  -3.8 1.24e+001    -  3.48e-001 3.17e-001h  1\n",
            " 133 1.8601889e+000 1.04e+000 7.80e+004  -3.8 1.20e+001    -  5.07e-002 4.67e-001h  1\n",
            " 134 1.7820852e+000 9.25e-001 5.38e+004  -3.8 1.19e+001    -  7.03e-001 1.55e-001h  1\n",
            " 135 1.4135310e+000 1.55e+000 3.16e+005  -3.8 1.15e+001    -  2.76e-001 8.37e-001h  1\n",
            " 136 1.2512911e+000 1.21e+000 2.94e+005  -3.8 1.23e+001    -  4.85e-002 3.99e-001h  1\n",
            " 137 9.6646136e-001 1.41e+000 5.08e+004  -3.8 1.23e+001    -  8.00e-001 7.01e-001h  1\n",
            " 138 6.6587209e-001 1.50e+000 9.01e+006  -3.8 1.17e+001    -  5.16e-002 1.00e+000h  1\n",
            " 139 6.3185665e-001 1.40e+000 8.21e+006  -3.8 1.71e+001    -  4.39e-001 8.97e-002h  1\n",
            "iter    objective    inf_pr   inf_du lg(mu)  ||d||  lg(rg) alpha_du alpha_pr  ls\n",
            " 140 4.4519771e-001 2.28e+000 5.39e+005  -3.8 1.22e+001    -  3.24e-001 1.00e+000h  1\n",
            " 141 3.8148389e-001 7.88e-001 6.02e+004  -3.8 4.09e+000    -  2.83e-001 1.00e+000h  1\n",
            " 142 3.8795211e-001 4.19e-001 5.52e+004  -3.8 3.35e+000  -3.7 3.72e-001 1.00e+000h  1\n",
            " 143 3.8736626e-001 2.40e-002 1.92e+004  -3.8 1.37e+000    -  8.28e-001 1.00e+000h  1\n",
            " 144 3.8625449e-001 9.26e-002 1.38e+004  -3.8 1.86e+000    -  1.00e+000 1.00e+000h  1\n",
            " 145 3.8649484e-001 1.11e-004 1.45e+002  -3.8 4.46e-002    -  1.00e+000 1.00e+000h  1\n",
            " 146 3.8616219e-001 1.20e-004 2.80e+001  -3.8 8.84e-002    -  1.00e+000 1.00e+000h  1\n",
            " 147 3.8616080e-001 4.06e-009 1.98e-003  -3.8 4.46e-004    -  1.00e+000 1.00e+000h  1\n",
            " 148 3.5960571e-001 1.07e+000 3.16e+003  -5.7 1.14e+001    -  6.30e-001 5.74e-001f  1\n",
            " 149 3.4866546e-001 6.06e-001 4.42e+003  -5.7 6.01e+000    -  4.11e-001 1.00e+000h  1\n",
            "iter    objective    inf_pr   inf_du lg(mu)  ||d||  lg(rg) alpha_du alpha_pr  ls\n",
            " 150 3.4611416e-001 3.82e-001 1.82e+003  -5.7 4.34e+000    -  7.74e-001 4.64e-001h  1\n",
            " 151 3.4353134e-001 1.95e-001 1.30e+003  -5.7 4.37e+000    -  1.00e+000 1.00e+000h  1\n",
            " 152 3.4331125e-001 1.33e-001 7.36e+003  -5.7 4.69e+000    -  1.65e-001 1.00e+000h  1\n",
            " 153 3.4287980e-001 7.54e-003 2.23e+003  -5.7 1.22e+000    -  1.25e-001 1.00e+000h  1\n",
            " 154 3.4280462e-001 2.06e-002 4.60e+001  -5.7 2.19e+000    -  1.00e+000 1.00e+000h  1\n",
            " 155 3.4276604e-001 7.76e-003 2.93e+001  -5.7 9.42e-001    -  1.00e+000 1.00e+000h  1\n",
            " 156 3.4274765e-001 1.98e-005 7.38e-002  -5.7 6.39e-002    -  1.00e+000 1.00e+000h  1\n",
            " 157 3.4272433e-001 4.85e-003 1.80e+001  -8.6 9.84e-001    -  9.36e-001 1.00e+000h  1\n",
            " 158 3.4270530e-001 1.07e-005 3.15e-002  -8.6 8.24e-002    -  9.99e-001 1.00e+000h  1\n",
            " 159 3.4270516e-001 6.85e-009 3.27e-005  -8.6 8.59e-004    -  1.00e+000 1.00e+000h  1\n",
            "\n",
            "Number of Iterations....: 159\n",
            "\n",
            "                                   (scaled)                 (unscaled)\n",
            "Objective...............:  3.4270516426102932e-001   3.4270516426102932e-001\n",
            "Dual infeasibility......:  3.2688304159200765e-005   3.2688304159200765e-005\n",
            "Constraint violation....:  3.3500557186823640e-009   6.8459726776382013e-009\n",
            "Complementarity.........:  2.5065932676031313e-009   2.5065932676031313e-009\n",
            "Overall NLP error.......:  4.8849240951164069e-009   3.2688304159200765e-005\n",
            "\n",
            "\n",
            "Number of objective function evaluations             = 186\n",
            "Number of objective gradient evaluations             = 160\n",
            "Number of equality constraint evaluations            = 186\n",
            "Number of inequality constraint evaluations          = 0\n",
            "Number of equality constraint Jacobian evaluations   = 160\n",
            "Number of inequality constraint Jacobian evaluations = 0\n",
            "Number of Lagrangian Hessian evaluations             = 159\n",
            "Total CPU secs in IPOPT (w/o function evaluations)   =      1.991\n",
            "Total CPU secs in NLP function evaluations           =      0.431\n",
            "\n",
            "EXIT: Optimal Solution Found.\n",
            "theta:\n",
            " kb1     2.302587\n",
            "b1      3.766246\n",
            "kb2    13.815512\n",
            "b2      1.980352\n",
            "kg     -5.964359\n",
            "g       1.047566\n",
            "dtype: float64\n"
          ]
        }
      ],
      "source": [
        "import pyomo.contrib.parmest.parmest as parmest\n",
        "\n",
        "# defining the names of the parameters in a list\n",
        "theta_names = list(m.theta.keys())\n",
        "# theta_names = ['b1','b2','kg','g']\n",
        "print(theta_names)\n",
        "\n",
        "# create an object using parmest.Estimator() that stores the Pyomo model realizations for the datasets provided.\n",
        "# This object which will be used to determined the parameter values that best fit all the datasets\n",
        "pest = parmest.Estimator(Cryst_model_parmest,list_of_exp_data_frames,theta_names,tee=True,solver_options={'halt_on_ampl_error':'yes',\n",
        "                                                                                                           'linear_solver': 'ma97'})\n",
        "\n",
        "# call the method theta_est() for the Estimator() object defined above to solve\n",
        "# the parameter estimation problem.\n",
        "# theta_est() returns:\n",
        "    # the overall objective function value\n",
        "    # estimated parameter values (dictionary with keys = parameters names as defined in the Pyomo model)\n",
        "obj, theta = pest.theta_est()\n",
        "\n",
        "print('theta:\\n',theta)\n"
      ]
    },
    {
      "cell_type": "code",
      "execution_count": 15,
      "metadata": {},
      "outputs": [
        {
          "name": "stdout",
          "output_type": "stream",
          "text": [
            "Estimates:\n",
            " {'kb1': 10.000020319542081, 'b1': 3.766246445091517, 'kb2': 1000000.991317617, 'b2': 1.9803523213745553, 'kg': 0.0025686917429381478, 'g': 1.0475657166330827}\n"
          ]
        }
      ],
      "source": [
        "Estimates = {'kb1': np.exp(theta[0]), 'b1': theta[1], 'kb2': np.exp(theta[2]), 'b2': theta[3], 'kg': np.exp(theta[4]), 'g': theta[5]} \n",
        "print('Estimates:\\n',Estimates)"
      ]
    },
    {
      "cell_type": "markdown",
      "metadata": {
        "id": "Wpcya3OTmnVz"
      },
      "source": [
        "# Model-based Design of Experiments"
      ]
    },
    {
      "cell_type": "code",
      "execution_count": 16,
      "metadata": {
        "colab": {
          "base_uri": "https://localhost:8080/"
        },
        "id": "PiNHxbdvW97B",
        "outputId": "41e2c2be-d762-4713-cb70-d911b3fe8cc8"
      },
      "outputs": [
        {
          "name": "stdout",
          "output_type": "stream",
          "text": [
            "[0]\n"
          ]
        }
      ],
      "source": [
        "# Gather time points you want. Probably can specify from the model(??)\n",
        "time_control = []\n",
        "old_div = -1\n",
        "for i in range(51):\n",
        "    if int(i * 144 / 900) != old_div:\n",
        "      old_div = int(i * 144 / 900)\n",
        "      time_control.append(i * 144)\n",
        "\n",
        "time_control = [0] #override line for MBDoE development - initial condition only\n",
        "\n",
        "print(time_control)\n",
        "# Defining the control time set (hours)\n",
        "#time_control = [0, 0.25, 0.50, 0.75, 1]\n",
        "\n",
        "# Defining parameter nominal value\n",
        "parameter_dict = {'kb1':10,'b1':0.1,'kb2':100,'b2': 0.2, 'kg': 0.00002, 'g': 0.54641}\n",
        "\n",
        "parameter_dict = dict(theta)"
      ]
    },
    {
      "cell_type": "code",
      "execution_count": 17,
      "metadata": {
        "colab": {
          "base_uri": "https://localhost:8080/"
        },
        "id": "b5RohTWgeZHn",
        "outputId": "5092aae7-311a-4870-acc2-21db1ea6a7e6"
      },
      "outputs": [
        {
          "name": "stdout",
          "output_type": "stream",
          "text": [
            "Measurement names: ['C[0]', 'MT[0]', 'avg_vol[0]']\n"
          ]
        }
      ],
      "source": [
        "# Defining measurements (physically measuring -- need to change)\n",
        "measurement_class = MeasurementVariables()\n",
        "\n",
        "variable_name='C'\n",
        "#sum((m.C[t] - C_measure[t]) ** 2 + (m.MT[t] - MT_measure[t]) ** 2\n",
        " #                      + (m.avg_vol[t] - avg_vol_measure[t]) ** 2 for t in t_measure)\n",
        "indices = {0:time_control}\n",
        "\n",
        "# Adding measurements variables\n",
        "measurement_class.add_variables('C',indices=indices, time_index_position=0,variance=1e-1*0.05)  # From ~avg. concentration * 0.05\n",
        "measurement_class.add_variables('MT',indices=indices, time_index_position=0,variance=1e-1*0.05) # Same as concentration\n",
        "measurement_class.add_variables('avg_vol',indices=indices, time_index_position=0,variance=1e-3) # TODO: need to fix variance; find what a reasonable variance would be\n",
        "print('Measurement names:', measurement_class.variable_names)"
      ]
    },
    {
      "cell_type": "code",
      "execution_count": 18,
      "metadata": {
        "id": "aibwftf1olCh"
      },
      "outputs": [],
      "source": [
        "# Design variables (manipulate to make experiment more informative -- Ci is fine for now)\n",
        "design_vars = DesignVariables()\n",
        "\n",
        "var_C = 'Ci'\n",
        "indices_C = [0, ]\n",
        "exp1_C = [95e-3, ]"
      ]
    },
    {
      "cell_type": "code",
      "execution_count": 19,
      "metadata": {
        "id": "8YSNbQ2VoqMR"
      },
      "outputs": [],
      "source": [
        "# Add design variable\n",
        "# design_vars.add_variables(var_C,\n",
        "#                          indices = {0:indices_C},\n",
        "#                          time_index_position=0,\n",
        "#                          values=exp1_C,lower_bounds=90e-3, upper_bounds=100e-3)\n",
        "\n",
        "\n",
        "# Line 176 in measurements.py (should perform assertion that time_index_position is iterable before calling 'is in')"
      ]
    },
    {
      "cell_type": "code",
      "execution_count": 20,
      "metadata": {
        "id": "ErxD2_6epWVl"
      },
      "outputs": [],
      "source": [
        "var_T = 'Ti'\n",
        "#indices_T = {0:time_control}\n",
        "indices_T = {0:[0]}"
      ]
    },
    {
      "cell_type": "code",
      "execution_count": 21,
      "metadata": {
        "colab": {
          "base_uri": "https://localhost:8080/"
        },
        "id": "80QJIeNppbsV",
        "outputId": "958be986-16e3-4df8-a6b9-4c054a83392c"
      },
      "outputs": [
        {
          "name": "stdout",
          "output_type": "stream",
          "text": [
            "Design variable names: ['Ti[0]']\n"
          ]
        }
      ],
      "source": [
        "#exp1_T = [470, 300, 300, 300, 300]\n",
        "exp1_T = [325, ]\n",
        "\n",
        "design_vars.add_variables(var_T, indices = indices_T, time_index_position=0, values=exp1_T,\n",
        "                          lower_bounds=320, upper_bounds=330)  # What do these do?\n",
        "print(\"Design variable names:\", design_vars.variable_names)\n",
        "\n",
        "# Strange error with partial variable names output such as 'T[' ??????"
      ]
    },
    {
      "cell_type": "code",
      "execution_count": 22,
      "metadata": {
        "id": "uHcGzd5pPPbc"
      },
      "outputs": [],
      "source": [
        "# dv_pass = {'Ti[0]': [0]} #building an initial input for MBDoE \"design_vars\""
      ]
    },
    {
      "cell_type": "code",
      "execution_count": 23,
      "metadata": {
        "colab": {
          "base_uri": "https://localhost:8080/"
        },
        "id": "gFm37i8xiKEB",
        "outputId": "54bd279c-0dc9-4802-d5fe-aac22e259c46"
      },
      "outputs": [
        {
          "name": "stdout",
          "output_type": "stream",
          "text": [
            "{'Ti[0]': 325}\n"
          ]
        }
      ],
      "source": [
        "# Sensitivity selection\n",
        "sensitivity_option = 'sequential_finite'\n",
        "\n",
        "# Define experiments\n",
        "design_names = design_vars.variable_names\n",
        "# exp1 = [130e-3, 325]\n",
        "exp1 = [325]\n",
        "exp1_design_dict = dict(zip(design_names, exp1))\n",
        "\n",
        "print(exp1_design_dict)\n",
        "\n",
        "# design_vars.update_values(exp1_design_dict)"
      ]
    },
    {
      "cell_type": "code",
      "execution_count": 24,
      "metadata": {
        "id": "KGgJ83mQdY3p"
      },
      "outputs": [],
      "source": [
        "def disc_for_measure(m, nfe=50, block=True):\n",
        "    \"\"\"\n",
        "    Pyomo.DAE discretization\n",
        "\n",
        "    Arguments\n",
        "    ---------\n",
        "    m: Pyomo model\n",
        "    nfe: number of finite elements b\n",
        "    block: if True, the input model has blocks\n",
        "    \"\"\"\n",
        "    # Discretization using collocation\n",
        "    discretizer = pyo.TransformationFactory(\"dae.finite_difference\")\n",
        "    # nfe = 50\n",
        "    # discretizer = pyo.TransformationFactory(\"dae.collocation\")\n",
        "    if block:\n",
        "        for s in range(len(m.block)):\n",
        "            discretizer.apply_to(m.block[s], nfe=nfe, wrt=m.block[s].t, scheme='BACKWARD')\n",
        "            sim = Simulator(m.block[s], package='casadi')\n",
        "            # discretizer.apply_to(m.block[s], nfe=nfe, ncp=3, wrt=m.block[s].t, scheme='LAGRANGE-RADAU')\n",
        "            tsim, profiles = sim.simulate(numpoints=150, integrator = 'idas', integrator_options=int_ops)\n",
        "            sim.initialize_model()\n",
        "    else:\n",
        "        # TODO: Add simulation to this case\n",
        "        discretizer.apply_to(m, nfe=nfe, wrt=m.t, scheme='BACKWARD')\n",
        "        # discretizer.apply_to(m.block[s], nfe=nfe, ncp=6, wrt=m.block[s].t, scheme='LAGRANGE-RADAU')\n",
        "    return m"
      ]
    },
    {
      "cell_type": "code",
      "execution_count": 25,
      "metadata": {
        "colab": {
          "base_uri": "https://localhost:8080/"
        },
        "id": "bLKuPyoPiWwh",
        "outputId": "ab44e569-3f39-40a2-dc28-b6a9d327f0ae"
      },
      "outputs": [
        {
          "name": "stdout",
          "output_type": "stream",
          "text": [
            "WARNING (W1002): Setting Var 'block[1].kb1' to a numeric value\n",
            "`2.300284537821243` outside the bounds (2.302585092994046, 9.210340371976184).\n",
            "    See also https://pyomo.readthedocs.io/en/stable/errors.html#w1002\n",
            "WARNING (W1002): Setting Var 'block[5].kb2' to a numeric value\n",
            "`13.801696037732118` outside the bounds (13.815510557964274,\n",
            "27.631021115928547).\n",
            "    See also https://pyomo.readthedocs.io/en/stable/errors.html#w1002\n",
            "FORWARD INTEGRATION:\n",
            "Number of steps taken by SUNDIALS: 695\n",
            "Number of calls to the user's f function: 1334\n",
            "Number of calls made to the linear solver setup function: 195\n",
            "Number of error test failures: 81\n",
            "Method order used on the last internal step: 3\n",
            "Method order to be used on the next internal step: 3\n",
            "Actual value of initial step size: 0.0483221\n",
            "Step size taken on the last internal step: 48.9324\n",
            "Step size to be attempted on the next internal step: 48.9324\n",
            "Current internal time reached: 7200\n",
            "Number of nonlinear iterations performed: 1332\n",
            "Number of nonlinear convergence failures: 0\n",
            "\n"
          ]
        },
        {
          "name": "stdout",
          "output_type": "stream",
          "text": [
            "FORWARD INTEGRATION:\n",
            "Number of steps taken by SUNDIALS: 763\n",
            "Number of calls to the user's f function: 1727\n",
            "Number of calls made to the linear solver setup function: 447\n",
            "Number of error test failures: 211\n",
            "Method order used on the last internal step: 3\n",
            "Method order to be used on the next internal step: 3\n",
            "Actual value of initial step size: 0.0483221\n",
            "Step size taken on the last internal step: 64.0296\n",
            "Step size to be attempted on the next internal step: 64.0296\n",
            "Current internal time reached: 7200\n",
            "Number of nonlinear iterations performed: 1725\n",
            "Number of nonlinear convergence failures: 0\n",
            "\n",
            "FORWARD INTEGRATION:\n",
            "Number of steps taken by SUNDIALS: 722\n",
            "Number of calls to the user's f function: 1682\n",
            "Number of calls made to the linear solver setup function: 440\n",
            "Number of error test failures: 206\n",
            "Method order used on the last internal step: 4\n",
            "Method order to be used on the next internal step: 4\n",
            "Actual value of initial step size: 0.0483221\n",
            "Step size taken on the last internal step: 41.4572\n",
            "Step size to be attempted on the next internal step: 82.9143\n",
            "Current internal time reached: 7200\n",
            "Number of nonlinear iterations performed: 1680\n",
            "Number of nonlinear convergence failures: 0\n",
            "\n",
            "FORWARD INTEGRATION:\n",
            "Number of steps taken by SUNDIALS: 796\n",
            "Number of calls to the user's f function: 1729\n",
            "Number of calls made to the linear solver setup function: 347\n",
            "Number of error test failures: 163\n",
            "Method order used on the last internal step: 4\n",
            "Method order to be used on the next internal step: 4\n",
            "Actual value of initial step size: 0.0483221\n",
            "Step size taken on the last internal step: 117.873\n",
            "Step size to be attempted on the next internal step: 117.873\n",
            "Current internal time reached: 7200\n",
            "Number of nonlinear iterations performed: 1727\n",
            "Number of nonlinear convergence failures: 0\n",
            "\n",
            "FORWARD INTEGRATION:\n",
            "Number of steps taken by SUNDIALS: 736\n",
            "Number of calls to the user's f function: 1572\n",
            "Number of calls made to the linear solver setup function: 344\n",
            "Number of error test failures: 162\n",
            "Method order used on the last internal step: 2\n",
            "Method order to be used on the next internal step: 2\n",
            "Actual value of initial step size: 0.0483221\n",
            "Step size taken on the last internal step: 21.4874\n",
            "Step size to be attempted on the next internal step: 42.9747\n",
            "Current internal time reached: 7200\n",
            "Number of nonlinear iterations performed: 1570\n",
            "Number of nonlinear convergence failures: 0\n",
            "\n",
            "FORWARD INTEGRATION:\n",
            "Number of steps taken by SUNDIALS: 820\n",
            "Number of calls to the user's f function: 1809\n",
            "Number of calls made to the linear solver setup function: 439\n",
            "Number of error test failures: 204\n",
            "Method order used on the last internal step: 5\n",
            "Method order to be used on the next internal step: 5\n",
            "Actual value of initial step size: 0.0483221\n",
            "Step size taken on the last internal step: 77.0667\n",
            "Step size to be attempted on the next internal step: 154.133\n",
            "Current internal time reached: 7200\n",
            "Number of nonlinear iterations performed: 1807\n",
            "Number of nonlinear convergence failures: 0\n",
            "\n",
            "FORWARD INTEGRATION:\n",
            "Number of steps taken by SUNDIALS: 774\n",
            "Number of calls to the user's f function: 1776\n",
            "Number of calls made to the linear solver setup function: 433\n",
            "Number of error test failures: 206\n",
            "Method order used on the last internal step: 3\n",
            "Method order to be used on the next internal step: 3\n",
            "Actual value of initial step size: 0.0483221\n",
            "Step size taken on the last internal step: 33.8866\n",
            "Step size to be attempted on the next internal step: 67.7732\n",
            "Current internal time reached: 7200\n",
            "Number of nonlinear iterations performed: 1774\n",
            "Number of nonlinear convergence failures: 0\n",
            "\n",
            "FORWARD INTEGRATION:\n",
            "Number of steps taken by SUNDIALS: 828\n",
            "Number of calls to the user's f function: 1807\n",
            "Number of calls made to the linear solver setup function: 444\n",
            "Number of error test failures: 209\n",
            "Method order used on the last internal step: 4\n",
            "Method order to be used on the next internal step: 4\n",
            "Actual value of initial step size: 0.0483221\n",
            "Step size taken on the last internal step: 67.4546\n",
            "Step size to be attempted on the next internal step: 134.909\n",
            "Current internal time reached: 7200\n",
            "Number of nonlinear iterations performed: 1805\n",
            "Number of nonlinear convergence failures: 0\n",
            "\n",
            "FORWARD INTEGRATION:\n",
            "Number of steps taken by SUNDIALS: 918\n",
            "Number of calls to the user's f function: 1980\n",
            "Number of calls made to the linear solver setup function: 430\n",
            "Number of error test failures: 208\n",
            "Method order used on the last internal step: 3\n",
            "Method order to be used on the next internal step: 3\n",
            "Actual value of initial step size: 0.0483221\n",
            "Step size taken on the last internal step: 113.519\n",
            "Step size to be attempted on the next internal step: 102.167\n",
            "Current internal time reached: 7200\n",
            "Number of nonlinear iterations performed: 1978\n",
            "Number of nonlinear convergence failures: 0\n",
            "\n",
            "FORWARD INTEGRATION:\n",
            "Number of steps taken by SUNDIALS: 822\n",
            "Number of calls to the user's f function: 1716\n",
            "Number of calls made to the linear solver setup function: 361\n",
            "Number of error test failures: 171\n",
            "Method order used on the last internal step: 3\n",
            "Method order to be used on the next internal step: 3\n",
            "Actual value of initial step size: 0.0483221\n",
            "Step size taken on the last internal step: 17.7859\n",
            "Step size to be attempted on the next internal step: 35.5718\n",
            "Current internal time reached: 7200\n",
            "Number of nonlinear iterations performed: 1714\n",
            "Number of nonlinear convergence failures: 0\n",
            "\n",
            "FORWARD INTEGRATION:\n",
            "Number of steps taken by SUNDIALS: 948\n",
            "Number of calls to the user's f function: 1965\n",
            "Number of calls made to the linear solver setup function: 437\n",
            "Number of error test failures: 208\n",
            "Method order used on the last internal step: 3\n",
            "Method order to be used on the next internal step: 3\n",
            "Actual value of initial step size: 0.0483221\n",
            "Step size taken on the last internal step: 22.2541\n",
            "Step size to be attempted on the next internal step: 44.5081\n",
            "Current internal time reached: 7200\n",
            "Number of nonlinear iterations performed: 1963\n",
            "Number of nonlinear convergence failures: 0\n",
            "\n",
            "FORWARD INTEGRATION:\n",
            "Number of steps taken by SUNDIALS: 733\n",
            "Number of calls to the user's f function: 1758\n",
            "Number of calls made to the linear solver setup function: 442\n",
            "Number of error test failures: 218\n",
            "Method order used on the last internal step: 5\n",
            "Method order to be used on the next internal step: 5\n",
            "Actual value of initial step size: 0.0483221\n",
            "Step size taken on the last internal step: 71.0066\n",
            "Step size to be attempted on the next internal step: 71.0066\n",
            "Current internal time reached: 7200\n",
            "Number of nonlinear iterations performed: 1756\n",
            "Number of nonlinear convergence failures: 0\n",
            "\n",
            "Ipopt 3.11.1: bound_push=1e-08\n",
            "linear_solver=mumps\n",
            "max_iter=3000\n",
            "\n",
            "\n",
            "******************************************************************************\n",
            "This program contains Ipopt, a library for large-scale nonlinear optimization.\n",
            " Ipopt is released as open source code under the Eclipse Public License (EPL).\n",
            "         For more information visit http://projects.coin-or.org/Ipopt\n",
            "******************************************************************************\n",
            "\n",
            "NOTE: You are using Ipopt by default with the MUMPS linear solver.\n",
            "      Other linear solvers might be more efficient (see Ipopt documentation).\n",
            "\n",
            "\n",
            "This is Ipopt version 3.11.1, running with linear solver mumps.\n",
            "\n",
            "Number of nonzeros in equality constraint Jacobian...:    35559\n",
            "Number of nonzeros in inequality constraint Jacobian.:        0\n",
            "Number of nonzeros in Lagrangian Hessian.............:     7212\n",
            "\n",
            "Total number of variables............................:    12188\n",
            "                     variables with only lower bounds:     7276\n",
            "                variables with lower and upper bounds:        0\n",
            "                     variables with only upper bounds:        0\n",
            "Total number of equality constraints.................:    12180\n",
            "Total number of inequality constraints...............:        0\n",
            "        inequality constraints with only lower bounds:        0\n",
            "   inequality constraints with lower and upper bounds:        0\n",
            "        inequality constraints with only upper bounds:        0\n",
            "\n",
            "iter    objective    inf_pr   inf_du lg(mu)  ||d||  lg(rg) alpha_du alpha_pr  ls\n",
            "   0 0.0000000e+000 5.18e+000 1.00e+000  -1.0 0.00e+000    -  0.00e+000 0.00e+000   0\n",
            "   1 0.0000000e+000 1.69e+000 5.54e+007  -1.0 1.84e+001    -  9.90e-008 7.11e-001f  1\n",
            "   2 0.0000000e+000 2.00e-001 3.22e+013  -1.0 1.75e+000   8.0 8.67e-001 8.82e-001f  1\n",
            "   3 0.0000000e+000 3.40e-002 6.03e+012  -1.0 6.04e-001   7.5 6.27e-002 1.00e+000f  1\n",
            "   4 0.0000000e+000 3.19e-005 1.36e+010  -1.0 1.13e-001   7.0 9.92e-001 1.00e+000h  1\n",
            "   5 0.0000000e+000 2.55e-005 3.00e+007  -1.7 1.08e-001   6.6 1.00e+000 1.00e+000h  1\n",
            "   6 0.0000000e+000 5.13e-007 1.10e+006  -3.8 1.50e-002   6.1 1.00e+000 1.00e+000h  1\n",
            "   7 0.0000000e+000 1.74e-001 7.15e+004  -3.8 7.21e+001    -  2.56e-001 1.00e+000h  1\n",
            "   8 0.0000000e+000 8.72e-002 3.58e+004  -3.8 6.69e+002    -  8.44e-001 5.00e-001h  2\n",
            "   9 0.0000000e+000 4.36e-002 1.79e+004  -3.8 8.72e-002   5.6 1.00e+000 5.00e-001h  2\n",
            "iter    objective    inf_pr   inf_du lg(mu)  ||d||  lg(rg) alpha_du alpha_pr  ls\n",
            "  10 0.0000000e+000 2.18e-002 1.20e+004  -3.8 4.36e-002   5.1 1.00e+000 5.00e-001h  2\n",
            "  11 0.0000000e+000 1.09e-002 6.48e+003  -3.8 2.18e-002   4.7 1.00e+000 5.00e-001h  2\n",
            "  12 0.0000000e+000 1.65e-006 1.67e+002  -3.8 1.09e-002   4.2 1.00e+000 1.00e+000h  1\n",
            "  13 0.0000000e+000 1.26e-012 8.03e-003  -3.8 1.58e-006   3.7 1.00e+000 1.00e+000h  1\n",
            "  14 0.0000000e+000 5.90e-013 2.12e-005  -5.7 1.25e-008   3.2 1.00e+000 1.00e+000h  1\n",
            "  15 0.0000000e+000 6.11e-013 2.88e-008  -8.6 5.09e-011   2.8 1.00e+000 1.00e+000h  1\n",
            "  16 0.0000000e+000 5.90e-013 2.88e-008  -8.6 1.53e-010   2.3 1.00e+000 1.00e+000h  1\n",
            "  17 0.0000000e+000 6.11e-013 2.88e-008  -8.6 4.58e-010   1.8 1.00e+000 1.00e+000h  1\n",
            "  18 0.0000000e+000 5.86e-013 2.88e-008  -8.6 1.38e-009   1.3 1.00e+000 1.00e+000h  1\n",
            "  19 0.0000000e+000 6.11e-013 2.88e-008  -8.6 4.13e-009   0.8 1.00e+000 1.00e+000h  1\n",
            "iter    objective    inf_pr   inf_du lg(mu)  ||d||  lg(rg) alpha_du alpha_pr  ls\n",
            "  20 0.0000000e+000 5.90e-013 2.88e-008  -8.6 1.24e-008   0.4 1.00e+000 1.00e+000h  1\n",
            "  21 0.0000000e+000 6.11e-013 2.88e-008  -8.6 3.71e-008  -0.1 1.00e+000 1.00e+000h  1\n",
            "  22 0.0000000e+000 5.86e-013 2.88e-008  -8.6 1.11e-007  -0.6 1.00e+000 1.00e+000h  1\n",
            "  23 0.0000000e+000 6.11e-013 2.88e-008  -8.6 3.34e-007  -1.1 1.00e+000 1.00e+000h  1\n",
            "  24 0.0000000e+000 1.66e-012 2.88e-008  -8.6 1.00e-006  -1.5 1.00e+000 1.00e+000h  1\n",
            "  25 0.0000000e+000 1.50e-011 2.88e-008  -8.6 3.01e-006  -2.0 1.00e+000 1.00e+000h  1\n",
            "  26 0.0000000e+000 1.35e-010 2.88e-008  -8.6 9.02e-006  -2.5 1.00e+000 1.00e+000h  1\n",
            "  27 0.0000000e+000 1.21e-009 2.87e-008  -8.6 2.71e-005  -3.0 1.00e+000 1.00e+000h  1\n",
            "  28 0.0000000e+000 1.09e-008 2.87e-008  -8.6 8.11e-005  -3.5 1.00e+000 1.00e+000h  1\n",
            "  29 0.0000000e+000 9.76e-008 2.87e-008  -8.6 2.43e-004  -3.9 1.00e+000 1.00e+000h  1\n",
            "\n",
            "Number of Iterations....: 29\n",
            "\n",
            "                                   (scaled)                 (unscaled)\n",
            "Objective...............:  0.0000000000000000e+000   0.0000000000000000e+000\n",
            "Dual infeasibility......:  2.8684989293492669e-008   2.8684989293492669e-008\n",
            "Constraint violation....:  9.7615587219278555e-008   9.7615587219278555e-008\n",
            "Complementarity.........:  2.5059035596800626e-009   2.5059035596800626e-009\n",
            "Overall NLP error.......:  9.7615587219278555e-008   9.7615587219278555e-008\n",
            "\n",
            "\n",
            "Number of objective function evaluations             = 34\n",
            "Number of objective gradient evaluations             = 30\n",
            "Number of equality constraint evaluations            = 34\n",
            "Number of inequality constraint evaluations          = 0\n",
            "Number of equality constraint Jacobian evaluations   = 30\n",
            "Number of inequality constraint Jacobian evaluations = 0\n",
            "Number of Lagrangian Hessian evaluations             = 29\n",
            "Total CPU secs in IPOPT (w/o function evaluations)   =      2.780\n",
            "Total CPU secs in NLP function evaluations           =      0.174\n",
            "\n",
            "EXIT: Solved To Acceptable Level.\n",
            "INFO: elapsed time: 5.8\n"
          ]
        },
        {
          "name": "stderr",
          "output_type": "stream",
          "text": [
            "c:\\Users\\aaron\\anaconda3\\lib\\site-packages\\pyomo\\contrib\\doe\\result.py:237: RuntimeWarning: invalid value encountered in double_scalars\n",
            "  self.cond = max(eig) / min(eig)\n"
          ]
        }
      ],
      "source": [
        "# Ipopt solver\n",
        "solver = pyo.SolverFactory('ipopt')\n",
        "\n",
        "solver.options = {'bound_push':1E-8, 'linear_solver':'mumps', 'max_iter':3000}\n",
        "\n",
        "# Use on Colab\n",
        "# solver.options = {'bound_push':1E-8,'max_iter': 500,\n",
        "#                   'linear_solver':'ma97',\n",
        "#                   'halt_on_ampl_error': 'yes'}\n",
        "\n",
        "# DoE object\n",
        "doe_object = DesignOfExperiments(parameter_dict,    # dictionary of parameters\n",
        "                                 design_vars,       # design variables\n",
        "                                 measurement_class, # measurements\n",
        "                                 Cryst_model,       # model\n",
        "                                 solver=solver,     # solver option\n",
        "                                 discretize_model=disc_for_measure # discretization\n",
        "                                 )\n",
        "\n",
        "# Compute FIM\n",
        "result = doe_object.compute_FIM(mode=sensitivity_option,        # sensitivity option\n",
        "                                FIM_store_name = 'dynamic.csv', # FIM results\n",
        "                                read_output=None,               # output\n",
        "                                scale_nominal_param_value=True, # scaling\n",
        "                                formula = \"central\"             # central finite difference\n",
        "                                )\n",
        "\n",
        "# FIM results\n",
        "result.result_analysis()"
      ]
    },
    {
      "cell_type": "code",
      "execution_count": 26,
      "metadata": {
        "colab": {
          "base_uri": "https://localhost:8080/"
        },
        "id": "3G87GUrPlTYl",
        "outputId": "4489445a-b739-4d30-9935-946ab40b1221"
      },
      "outputs": [
        {
          "name": "stdout",
          "output_type": "stream",
          "text": [
            "======Results Summary======\n",
            "Four design criteria log10() value:\n",
            "A-optimality: -inf\n",
            "D-optimality: -inf\n",
            "E-optimality: -inf\n",
            "Modified E-optimality: nan\n",
            "[[0. 0. 0. 0. 0. 0.]\n",
            " [0. 0. 0. 0. 0. 0.]\n",
            " [0. 0. 0. 0. 0. 0.]\n",
            " [0. 0. 0. 0. 0. 0.]\n",
            " [0. 0. 0. 0. 0. 0.]\n",
            " [0. 0. 0. 0. 0. 0.]]\n"
          ]
        },
        {
          "name": "stderr",
          "output_type": "stream",
          "text": [
            "C:\\Users\\aaron\\AppData\\Local\\Temp\\ipykernel_10096\\2226657694.py:4: RuntimeWarning: divide by zero encountered in log10\n",
            "  print('A-optimality:', np.log10(result.trace))\n",
            "C:\\Users\\aaron\\AppData\\Local\\Temp\\ipykernel_10096\\2226657694.py:5: RuntimeWarning: divide by zero encountered in log10\n",
            "  print('D-optimality:', np.log10(result.det))\n",
            "C:\\Users\\aaron\\AppData\\Local\\Temp\\ipykernel_10096\\2226657694.py:6: RuntimeWarning: divide by zero encountered in log10\n",
            "  print('E-optimality:', np.log10(result.min_eig))\n"
          ]
        }
      ],
      "source": [
        "# Results summary\n",
        "print('======Results Summary======')\n",
        "print('Four design criteria log10() value:')\n",
        "print('A-optimality:', np.log10(result.trace))\n",
        "print('D-optimality:', np.log10(result.det))\n",
        "print('E-optimality:', np.log10(result.min_eig))\n",
        "print('Modified E-optimality:', np.log10(result.cond))\n",
        "print(result.FIM)"
      ]
    },
    {
      "cell_type": "code",
      "execution_count": 27,
      "metadata": {
        "id": "TSVI0dTqDWUb"
      },
      "outputs": [],
      "source": [
        "fim = np.array(result.FIM)\n",
        "np.savetxt('fim_beta_1.csv', fim, delimiter=',')\n",
        "\n",
        "# load fim from the CSV file using numpy.loadtxt()\n",
        "# fim_loaded = np.loadtxt('fim_beta_1.csv', delimiter=',')\n",
        "\n",
        "# verify that fim and fim_loaded are the same\n",
        "# print(np.array_equal(fim, fim_loaded)) # True\n"
      ]
    },
    {
      "cell_type": "code",
      "execution_count": 28,
      "metadata": {
        "colab": {
          "base_uri": "https://localhost:8080/",
          "height": 237
        },
        "id": "_4p-vegGEfWw",
        "outputId": "1717234e-4711-4bc8-deda-902b0cd28d54"
      },
      "outputs": [
        {
          "data": {
            "text/html": [
              "<div>\n",
              "<style scoped>\n",
              "    .dataframe tbody tr th:only-of-type {\n",
              "        vertical-align: middle;\n",
              "    }\n",
              "\n",
              "    .dataframe tbody tr th {\n",
              "        vertical-align: top;\n",
              "    }\n",
              "\n",
              "    .dataframe thead th {\n",
              "        text-align: right;\n",
              "    }\n",
              "</style>\n",
              "<table border=\"1\" class=\"dataframe\">\n",
              "  <thead>\n",
              "    <tr style=\"text-align: right;\">\n",
              "      <th></th>\n",
              "      <th>kb1</th>\n",
              "      <th>b1</th>\n",
              "      <th>kb2</th>\n",
              "      <th>b2</th>\n",
              "      <th>kg</th>\n",
              "      <th>g</th>\n",
              "    </tr>\n",
              "  </thead>\n",
              "  <tbody>\n",
              "    <tr>\n",
              "      <th>kb1</th>\n",
              "      <td>0.0</td>\n",
              "      <td>0.0</td>\n",
              "      <td>0.0</td>\n",
              "      <td>0.0</td>\n",
              "      <td>0.0</td>\n",
              "      <td>0.0</td>\n",
              "    </tr>\n",
              "    <tr>\n",
              "      <th>b1</th>\n",
              "      <td>0.0</td>\n",
              "      <td>0.0</td>\n",
              "      <td>0.0</td>\n",
              "      <td>0.0</td>\n",
              "      <td>0.0</td>\n",
              "      <td>0.0</td>\n",
              "    </tr>\n",
              "    <tr>\n",
              "      <th>kb2</th>\n",
              "      <td>0.0</td>\n",
              "      <td>0.0</td>\n",
              "      <td>0.0</td>\n",
              "      <td>0.0</td>\n",
              "      <td>0.0</td>\n",
              "      <td>0.0</td>\n",
              "    </tr>\n",
              "    <tr>\n",
              "      <th>b2</th>\n",
              "      <td>0.0</td>\n",
              "      <td>0.0</td>\n",
              "      <td>0.0</td>\n",
              "      <td>0.0</td>\n",
              "      <td>0.0</td>\n",
              "      <td>0.0</td>\n",
              "    </tr>\n",
              "    <tr>\n",
              "      <th>kg</th>\n",
              "      <td>0.0</td>\n",
              "      <td>0.0</td>\n",
              "      <td>0.0</td>\n",
              "      <td>0.0</td>\n",
              "      <td>0.0</td>\n",
              "      <td>0.0</td>\n",
              "    </tr>\n",
              "    <tr>\n",
              "      <th>g</th>\n",
              "      <td>0.0</td>\n",
              "      <td>0.0</td>\n",
              "      <td>0.0</td>\n",
              "      <td>0.0</td>\n",
              "      <td>0.0</td>\n",
              "      <td>0.0</td>\n",
              "    </tr>\n",
              "  </tbody>\n",
              "</table>\n",
              "</div>"
            ],
            "text/plain": [
              "     kb1   b1  kb2   b2   kg    g\n",
              "kb1  0.0  0.0  0.0  0.0  0.0  0.0\n",
              "b1   0.0  0.0  0.0  0.0  0.0  0.0\n",
              "kb2  0.0  0.0  0.0  0.0  0.0  0.0\n",
              "b2   0.0  0.0  0.0  0.0  0.0  0.0\n",
              "kg   0.0  0.0  0.0  0.0  0.0  0.0\n",
              "g    0.0  0.0  0.0  0.0  0.0  0.0"
            ]
          },
          "execution_count": 28,
          "metadata": {},
          "output_type": "execute_result"
        }
      ],
      "source": [
        "fim_1 = pd.read_csv('fim_beta_1.csv',header=None)\n",
        "fim_1.columns=['kb1', 'b1', 'kb2', 'b2', 'kg', 'g']\n",
        "fim_1.index=['kb1', 'b1', 'kb2', 'b2', 'kg', 'g']\n",
        "fim_1"
      ]
    },
    {
      "cell_type": "code",
      "execution_count": 29,
      "metadata": {
        "id": "d8kJqZX8XI6A"
      },
      "outputs": [],
      "source": [
        "# Function to generate an experiment\n",
        "def generate_exp(t_set, T):\n",
        "    \"\"\"\n",
        "    Generate experiments.\n",
        "\n",
        "    Arguments:\n",
        "    t_set: time control set for T.\n",
        "    Ti[0]: initial temperature value\n",
        "\n",
        "    Return:\n",
        "    dv_dict_overall: dictionary of overall design variables\n",
        "    \"\"\"\n",
        "    # assert(len(t_set)==len(T)), 'T should have the same length as t_set'\n",
        "\n",
        "    # Dictionary for time points\n",
        "    # Initial conditions for time\n",
        "    # T_con_initial = {}\n",
        "    # for t, tim in enumerate(t_set):\n",
        "    #     T_con_initial[tim] = T[t]\n",
        "\n",
        "    # Timepoint value for Ti[0]\n",
        "    # 1 timepoints for T\n",
        "    dv_dict_overall = {'Ti[0]': {0: T}}\n",
        "    return dv_dict_overall"
      ]
    },
    {
      "cell_type": "code",
      "execution_count": 30,
      "metadata": {
        "colab": {
          "base_uri": "https://localhost:8080/"
        },
        "id": "7EXhc8-NbT_c",
        "outputId": "4435199f-ca43-408f-81c0-29104b421104"
      },
      "outputs": [
        {
          "name": "stdout",
          "output_type": "stream",
          "text": [
            "{'Ci': 0.11668, 'Ti': 325, 'tau': 7200, 'beta': 0.0016666666666666668, 'eps': 0.0005, 'M_seed': 0, 'Ls': 0.02}\n"
          ]
        }
      ],
      "source": [
        "exp_new = typical_experiment()\n",
        "exp_new['Ti'] = 325\n",
        "print(exp_new)"
      ]
    },
    {
      "cell_type": "code",
      "execution_count": 31,
      "metadata": {
        "colab": {
          "base_uri": "https://localhost:8080/",
          "height": 504
        },
        "id": "xC0P7QMGcP25",
        "outputId": "07be6721-fd2d-428c-8e32-a97de8ee2732"
      },
      "outputs": [
        {
          "ename": "LinAlgError",
          "evalue": "Matrix is not positive definite",
          "output_type": "error",
          "traceback": [
            "\u001b[1;31m---------------------------------------------------------------------------\u001b[0m",
            "\u001b[1;31mLinAlgError\u001b[0m                               Traceback (most recent call last)",
            "Cell \u001b[1;32mIn[31], line 16\u001b[0m\n\u001b[0;32m      2\u001b[0m doe_object \u001b[38;5;241m=\u001b[39m DesignOfExperiments(parameter_dict,    \u001b[38;5;66;03m# dictionary of parameters\u001b[39;00m\n\u001b[0;32m      3\u001b[0m                                  design_vars,       \u001b[38;5;66;03m# design variables\u001b[39;00m\n\u001b[0;32m      4\u001b[0m                                  measurement_class, \u001b[38;5;66;03m# measurements\u001b[39;00m\n\u001b[1;32m   (...)\u001b[0m\n\u001b[0;32m      7\u001b[0m                                  discretize_model\u001b[38;5;241m=\u001b[39mdisc_for_measure \u001b[38;5;66;03m# discretization\u001b[39;00m\n\u001b[0;32m      8\u001b[0m                                  )\n\u001b[0;32m     10\u001b[0m \u001b[38;5;66;03m# Stochastic programing for optimization, see above for how the function solves twice\u001b[39;00m\n\u001b[0;32m     11\u001b[0m square_result, optimize_result\u001b[38;5;241m=\u001b[39m doe_object\u001b[38;5;241m.\u001b[39mstochastic_program(exp_new,          \u001b[38;5;66;03m# the generated experiment\u001b[39;00m\n\u001b[0;32m     12\u001b[0m                                                               if_optimize\u001b[38;5;241m=\u001b[39m\u001b[38;5;28;01mTrue\u001b[39;00m, \u001b[38;5;66;03m# True: continue optimization, False: run square problem with given design variable values\u001b[39;00m\n\u001b[0;32m     13\u001b[0m                                                               if_Cholesky\u001b[38;5;241m=\u001b[39m\u001b[38;5;28;01mTrue\u001b[39;00m, \u001b[38;5;66;03m# True: Cholesky decomposition is used on the objective function for D-optimality\u001b[39;00m\n\u001b[0;32m     14\u001b[0m                                                               scale_nominal_param_value \u001b[38;5;241m=\u001b[39m \u001b[38;5;28;01mFalse\u001b[39;00m,  \u001b[38;5;66;03m# True: parameters are scaled by nominal value in param_init\u001b[39;00m\n\u001b[0;32m     15\u001b[0m                                                               objective_option\u001b[38;5;241m=\u001b[39m\u001b[38;5;124m'\u001b[39m\u001b[38;5;124mdet\u001b[39m\u001b[38;5;124m'\u001b[39m,             \u001b[38;5;66;03m# maximizes the 'det': determinant or 'trace': trace of FIM\u001b[39;00m\n\u001b[1;32m---> 16\u001b[0m                                                               L_initial\u001b[38;5;241m=\u001b[39m\u001b[43mnp\u001b[49m\u001b[38;5;241;43m.\u001b[39;49m\u001b[43mlinalg\u001b[49m\u001b[38;5;241;43m.\u001b[39;49m\u001b[43mcholesky\u001b[49m\u001b[43m(\u001b[49m\u001b[43mfim\u001b[49m\u001b[43m)\u001b[49m \u001b[38;5;66;03m# initializes the Cholesky decomposition matrix for FIM\u001b[39;00m\n\u001b[0;32m     17\u001b[0m                                                               )\n",
            "File \u001b[1;32m<__array_function__ internals>:180\u001b[0m, in \u001b[0;36mcholesky\u001b[1;34m(*args, **kwargs)\u001b[0m\n",
            "File \u001b[1;32mc:\\Users\\aaron\\anaconda3\\lib\\site-packages\\numpy\\linalg\\linalg.py:770\u001b[0m, in \u001b[0;36mcholesky\u001b[1;34m(a)\u001b[0m\n\u001b[0;32m    768\u001b[0m t, result_t \u001b[38;5;241m=\u001b[39m _commonType(a)\n\u001b[0;32m    769\u001b[0m signature \u001b[38;5;241m=\u001b[39m \u001b[38;5;124m'\u001b[39m\u001b[38;5;124mD->D\u001b[39m\u001b[38;5;124m'\u001b[39m \u001b[38;5;28;01mif\u001b[39;00m isComplexType(t) \u001b[38;5;28;01melse\u001b[39;00m \u001b[38;5;124m'\u001b[39m\u001b[38;5;124md->d\u001b[39m\u001b[38;5;124m'\u001b[39m\n\u001b[1;32m--> 770\u001b[0m r \u001b[38;5;241m=\u001b[39m \u001b[43mgufunc\u001b[49m\u001b[43m(\u001b[49m\u001b[43ma\u001b[49m\u001b[43m,\u001b[49m\u001b[43m \u001b[49m\u001b[43msignature\u001b[49m\u001b[38;5;241;43m=\u001b[39;49m\u001b[43msignature\u001b[49m\u001b[43m,\u001b[49m\u001b[43m \u001b[49m\u001b[43mextobj\u001b[49m\u001b[38;5;241;43m=\u001b[39;49m\u001b[43mextobj\u001b[49m\u001b[43m)\u001b[49m\n\u001b[0;32m    771\u001b[0m \u001b[38;5;28;01mreturn\u001b[39;00m wrap(r\u001b[38;5;241m.\u001b[39mastype(result_t, copy\u001b[38;5;241m=\u001b[39m\u001b[38;5;28;01mFalse\u001b[39;00m))\n",
            "File \u001b[1;32mc:\\Users\\aaron\\anaconda3\\lib\\site-packages\\numpy\\linalg\\linalg.py:92\u001b[0m, in \u001b[0;36m_raise_linalgerror_nonposdef\u001b[1;34m(err, flag)\u001b[0m\n\u001b[0;32m     91\u001b[0m \u001b[38;5;28;01mdef\u001b[39;00m \u001b[38;5;21m_raise_linalgerror_nonposdef\u001b[39m(err, flag):\n\u001b[1;32m---> 92\u001b[0m     \u001b[38;5;28;01mraise\u001b[39;00m LinAlgError(\u001b[38;5;124m\"\u001b[39m\u001b[38;5;124mMatrix is not positive definite\u001b[39m\u001b[38;5;124m\"\u001b[39m)\n",
            "\u001b[1;31mLinAlgError\u001b[0m: Matrix is not positive definite"
          ]
        }
      ],
      "source": [
        "# Creating a doe_object using DesignOfExperiments\n",
        "doe_object = DesignOfExperiments(parameter_dict,    # dictionary of parameters\n",
        "                                 design_vars,       # design variables\n",
        "                                 measurement_class, # measurements\n",
        "                                 Cryst_model,       # model\n",
        "                                 solver=solver,     # solver option\n",
        "                                 discretize_model=disc_for_measure # discretization\n",
        "                                 )\n",
        "\n",
        "# Stochastic programing for optimization, see above for how the function solves twice\n",
        "square_result, optimize_result= doe_object.stochastic_program(exp_new,          # the generated experiment\n",
        "                                                              if_optimize=True, # True: continue optimization, False: run square problem with given design variable values\n",
        "                                                              if_Cholesky=True, # True: Cholesky decomposition is used on the objective function for D-optimality\n",
        "                                                              scale_nominal_param_value = False,  # True: parameters are scaled by nominal value in param_init\n",
        "                                                              objective_option='det',             # maximizes the 'det': determinant or 'trace': trace of FIM\n",
        "                                                              L_initial=np.linalg.cholesky(fim) # initializes the Cholesky decomposition matrix for FIM\n",
        "                                                              )"
      ]
    },
    {
      "cell_type": "markdown",
      "metadata": {
        "id": "0-tElDN9aNQh"
      },
      "source": [
        "## Eigendecomposition"
      ]
    },
    {
      "cell_type": "markdown",
      "metadata": {
        "id": "R9X2U5fCaUwJ"
      },
      "source": [
        "For eigendecomposition, we want to look at the eigenvalues and eigenvectors of our FIM such that:\n",
        "\n",
        "$$ det(M) = \\Pi_i{\\lambda_i} $$"
      ]
    },
    {
      "cell_type": "code",
      "execution_count": null,
      "metadata": {
        "id": "qsELYcgWnkBU"
      },
      "outputs": [],
      "source": [
        "# Imports for eigendecomposition\n",
        "import scipy\n",
        "eigenvalues,eigenvectors = scipy.linalg.eig(result.FIM)"
      ]
    },
    {
      "cell_type": "markdown",
      "metadata": {
        "id": "iqyle5mNbHey"
      },
      "source": [
        "The eigenvalues of a matrix helps us learn more information about our parameters. Each eigenvalue maps to an eigenvector."
      ]
    },
    {
      "cell_type": "code",
      "execution_count": null,
      "metadata": {
        "id": "abMaFaoRn-Gq"
      },
      "outputs": [],
      "source": [
        "# Print the eigenvalues\n",
        "print(eigenvalues)"
      ]
    },
    {
      "cell_type": "markdown",
      "metadata": {
        "id": "RvE9RfG6b4Ti"
      },
      "source": [
        "Each component of the eigenvector refers to the parameter index."
      ]
    },
    {
      "cell_type": "code",
      "execution_count": null,
      "metadata": {
        "id": "0La1rN38oAjo"
      },
      "outputs": [],
      "source": [
        "# Print the eigenvectors\n",
        "print(eigenvectors)"
      ]
    }
  ],
  "metadata": {
    "colab": {
      "provenance": []
    },
    "kernelspec": {
      "display_name": "Python 3 (ipykernel)",
      "language": "python",
      "name": "python3"
    },
    "language_info": {
      "codemirror_mode": {
        "name": "ipython",
        "version": 3
      },
      "file_extension": ".py",
      "mimetype": "text/x-python",
      "name": "python",
      "nbconvert_exporter": "python",
      "pygments_lexer": "ipython3",
      "version": "3.9.16"
    }
  },
  "nbformat": 4,
  "nbformat_minor": 0
}
